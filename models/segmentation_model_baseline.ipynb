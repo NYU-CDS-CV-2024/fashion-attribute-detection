{
 "cells": [
  {
   "cell_type": "markdown",
   "id": "e447442d-2730-4296-8879-d83e89d39646",
   "metadata": {},
   "source": [
    "Code for baseline originating from: https://towardsdatascience.com/cook-your-first-u-net-in-pytorch-b3297a844cf3"
   ]
  },
  {
   "cell_type": "code",
   "execution_count": 1,
   "id": "f66cf3e5-37ea-4c94-88c5-d0f17fdcb853",
   "metadata": {},
   "outputs": [
    {
     "name": "stderr",
     "output_type": "stream",
     "text": [
      "/ext3/miniconda3/lib/python3.12/site-packages/tqdm/auto.py:21: TqdmWarning: IProgress not found. Please update jupyter and ipywidgets. See https://ipywidgets.readthedocs.io/en/stable/user_install.html\n",
      "  from .autonotebook import tqdm as notebook_tqdm\n"
     ]
    }
   ],
   "source": [
    "import torch\n",
    "import torch.nn as nn\n",
    "from torchvision import models\n",
    "import torchvision.transforms as transforms\n",
    "from torch.nn.functional import relu\n",
    "import pandas as pd\n",
    "import os\n",
    "from sklearn.model_selection import train_test_split\n",
    "from skimage import io\n",
    "import torch\n",
    "from skimage import color\n",
    "from sklearn.preprocessing import LabelEncoder\n",
    "import torch.nn as nn\n",
    "import torch.nn.functional as F\n",
    "from torch.utils.data import Dataset, DataLoader\n",
    "import time\n",
    "import numpy as np\n",
    "import matplotlib.pyplot as plt\n",
    "import torch.optim as optim\n",
    "import torch.nn.init as init\n",
    "from PIL import Image, ImageOps\n",
    "import pickle\n",
    "from copy import deepcopy"
   ]
  },
  {
   "cell_type": "code",
   "execution_count": 2,
   "id": "a03aa56d-3c84-4541-a755-ba8c9f542c40",
   "metadata": {},
   "outputs": [
    {
     "name": "stdout",
     "output_type": "stream",
     "text": [
      "y\n"
     ]
    }
   ],
   "source": [
    "if torch.cuda.is_available():\n",
    "    device = torch.device('cuda')\n",
    "    print('y')\n",
    "else:\n",
    "    device = torch.device('cpu')\n",
    "    print('n')\n"
   ]
  },
  {
   "cell_type": "code",
   "execution_count": 3,
   "id": "9f042f36-13d9-4d15-bcd8-18422af5705d",
   "metadata": {},
   "outputs": [],
   "source": [
    "class FashionDataset(Dataset):\n",
    "    def __init__(self, csv_file, img_dir, segm_dir, transform=None):\n",
    "        \"\"\"\n",
    "        Args:\n",
    "            csv_file (string): Path to the csv file filename information.\n",
    "            root_dir (string): Directory with all the images.\n",
    "            transform (callable, optional): Optional transform to be applied\n",
    "                on a sample.\n",
    "        \"\"\"\n",
    "        self.data_frame = pd.read_csv(csv_file)\n",
    "        self.img_dir = img_dir\n",
    "        self.segm_dir = segm_dir\n",
    "        self.transform = transform\n",
    "\n",
    "\n",
    "    def __len__(self):\n",
    "        return len(self.data_frame)\n",
    "\n",
    "    def __getitem__(self, idx):\n",
    "        img_name = os.path.join(self.img_dir,\n",
    "                                self.data_frame.iloc[idx, 0])\n",
    "\n",
    "        segm_name = os.path.join(self.segm_dir,\n",
    "                                self.data_frame.iloc[idx, -1])\n",
    "\n",
    "        image = Image.open(img_name)\n",
    "        label = Image.open(segm_name)\n",
    "\n",
    "\n",
    "        #Convert to grayscale \n",
    "        # image = image.convert('L')\n",
    "        \n",
    "        #Resize image and label to 572x572\n",
    "        image = image.resize((572, 572))\n",
    "        label = label.resize((572, 572))\n",
    "\n",
    "        #Crop label to match probability output from model\n",
    "        crop = transforms.CenterCrop(388)\n",
    "        label = crop(label)\n",
    "\n",
    "        \n",
    "        #Normalize the image\n",
    "        image = np.asarray(image)\n",
    "        min_image = np.min(image)\n",
    "        max_image = np.max(image)\n",
    "        image = (image - min_image)/(max_image - min_image + 1e-4)\n",
    "        \n",
    "        #Convert to tensors\n",
    "        image = torch.tensor(np.array(image)).float().permute(2, 0, 1)\n",
    "        label = torch.tensor(np.array(label)).long()\n",
    "\n",
    "        #sample = {'x': , 'y': }\n",
    "        sample = {'x': image, 'y': label}\n",
    "    \n",
    "        if self.transform:\n",
    "            sample = self.transform(sample)\n",
    "            \n",
    "        return sample"
   ]
  },
  {
   "cell_type": "code",
   "execution_count": 4,
   "id": "d091969e-9b7b-4189-8c30-173a26e118b8",
   "metadata": {},
   "outputs": [],
   "source": [
    "class UNet(nn.Module):\n",
    "    def __init__(self, n_class):\n",
    "        super().__init__()\n",
    "        \n",
    "        # Encoder\n",
    "        # In the encoder, convolutional layers with the Conv2d function are used to extract features from the input image. \n",
    "        # Each block in the encoder consists of two convolutional layers followed by a max-pooling layer, with the exception of the last block which does not include a max-pooling layer.\n",
    "        # -------\n",
    "        # input: 572x572x3\n",
    "        self.e11 = nn.Conv2d(3, 64, kernel_size=3, padding=0) # output: 570x570x64\n",
    "        self.e12 = nn.Conv2d(64, 64, kernel_size=3, padding=0) # output: 568x568x64\n",
    "        self.pool1 = nn.MaxPool2d(kernel_size=2, stride=2) # output: 284x284x64\n",
    "\n",
    "        # input: 284x284x64\n",
    "        self.e21 = nn.Conv2d(64, 128, kernel_size=3, padding=0) # output: 282x282x128\n",
    "        self.e22 = nn.Conv2d(128, 128, kernel_size=3, padding=0) # output: 280x280x128\n",
    "        self.pool2 = nn.MaxPool2d(kernel_size=2, stride=2) # output: 140x140x128\n",
    "\n",
    "        # input: 140x140x128\n",
    "        self.e31 = nn.Conv2d(128, 256, kernel_size=3, padding=0) # output: 138x138x256\n",
    "        self.e32 = nn.Conv2d(256, 256, kernel_size=3, padding=0) # output: 136x136x256\n",
    "        self.pool3 = nn.MaxPool2d(kernel_size=2, stride=2) # output: 68x68x256\n",
    "\n",
    "        # input: 68x68x256\n",
    "        self.e41 = nn.Conv2d(256, 512, kernel_size=3, padding=0) # output: 66x66x512\n",
    "        self.e42 = nn.Conv2d(512, 512, kernel_size=3, padding=0) # output: 64x64x512\n",
    "        self.pool4 = nn.MaxPool2d(kernel_size=2, stride=2) # output: 32x32x512\n",
    "\n",
    "        # input: 32x32x512\n",
    "        self.e51 = nn.Conv2d(512, 1024, kernel_size=3, padding=0) # output: 30x30x1024\n",
    "        self.e52 = nn.Conv2d(1024, 1024, kernel_size=3, padding=0) # output: 28x28x1024\n",
    "\n",
    "\n",
    "        # Decoder        \n",
    "\n",
    "        self.centercrop1 = transforms.CenterCrop(56)\n",
    "        self.upconv1 = nn.ConvTranspose2d(1024, 512, kernel_size=2, stride=2)\n",
    "        self.d11 = nn.Conv2d(1024, 512, kernel_size=3, padding=0)\n",
    "        self.d12 = nn.Conv2d(512, 512, kernel_size=3, padding=0)\n",
    "\n",
    "        self.centercrop2 = transforms.CenterCrop(104)\n",
    "        self.upconv2 = nn.ConvTranspose2d(512, 256, kernel_size=2, stride=2)\n",
    "        self.d21 = nn.Conv2d(512, 256, kernel_size=3, padding=0)\n",
    "        self.d22 = nn.Conv2d(256, 256, kernel_size=3, padding=0)\n",
    "        \n",
    "        self.centercrop3 = transforms.CenterCrop(200)\n",
    "        self.upconv3 = nn.ConvTranspose2d(256, 128, kernel_size=2, stride=2)\n",
    "        self.d31 = nn.Conv2d(256, 128, kernel_size=3, padding=0)\n",
    "        self.d32 = nn.Conv2d(128, 128, kernel_size=3, padding=0)\n",
    "\n",
    "        self.centercrop4 = transforms.CenterCrop(392)\n",
    "        self.upconv4 = nn.ConvTranspose2d(128, 64, kernel_size=2, stride=2)\n",
    "        self.d41 = nn.Conv2d(128, 64, kernel_size=3, padding=0)\n",
    "        self.d42 = nn.Conv2d(64, 64, kernel_size=3, padding=0)\n",
    "\n",
    "        # Output layer\n",
    "        self.outconv = nn.Conv2d(64, n_class, kernel_size=1)\n",
    "\n",
    "\n",
    "    def forward(self, x):\n",
    "        # Encoder\n",
    "        xe11 = relu(self.e11(x))\n",
    "        xe12 = relu(self.e12(xe11))\n",
    "        xp1 = self.pool1(xe12)\n",
    "\n",
    "        xe21 = relu(self.e21(xp1))\n",
    "        xe22 = relu(self.e22(xe21))\n",
    "        xp2 = self.pool2(xe22)\n",
    "\n",
    "        xe31 = relu(self.e31(xp2))\n",
    "        xe32 = relu(self.e32(xe31))\n",
    "        xp3 = self.pool3(xe32)\n",
    "\n",
    "        xe41 = relu(self.e41(xp3))\n",
    "        xe42 = relu(self.e42(xe41))\n",
    "        xp4 = self.pool4(xe42)\n",
    "\n",
    "        xe51 = relu(self.e51(xp4))\n",
    "        xe52 = relu(self.e52(xe51))\n",
    "       \n",
    "        # Decoder\n",
    "        xe42 = self.centercrop1(xe42) #ADDED\n",
    "        xu1 = self.upconv1(xe52)\n",
    "        xu11 = torch.cat([xu1, xe42], dim=1)\n",
    "        xd11 = relu(self.d11(xu11))\n",
    "        xd12 = relu(self.d12(xd11))\n",
    "\n",
    "        xe32 = self.centercrop2(xe32) #ADDED\n",
    "        xu2 = self.upconv2(xd12)\n",
    "        xu22 = torch.cat([xu2, xe32], dim=1)\n",
    "        xd21 = relu(self.d21(xu22))\n",
    "        xd22 = relu(self.d22(xd21))\n",
    "\n",
    "        xe22 = self.centercrop3(xe22) #ADDED        \n",
    "        xu3 = self.upconv3(xd22)\n",
    "        xu33 = torch.cat([xu3, xe22], dim=1)\n",
    "        xd31 = relu(self.d31(xu33))\n",
    "        xd32 = relu(self.d32(xd31))\n",
    "\n",
    "        xe12 = self.centercrop4(xe12) #ADDED                \n",
    "        xu4 = self.upconv4(xd32)\n",
    "        xu44 = torch.cat([xu4, xe12], dim=1)\n",
    "        xd41 = relu(self.d41(xu44))\n",
    "        xd42 = relu(self.d42(xd41))\n",
    "\n",
    "        # Output layer\n",
    "        out = self.outconv(xd42)\n",
    "\n",
    "        return out"
   ]
  },
  {
   "cell_type": "code",
   "execution_count": 5,
   "id": "8e7a0bde-13c9-488c-b995-e1cf3e51fa35",
   "metadata": {},
   "outputs": [],
   "source": [
    "def train_model(model, dataloader, optimizer, loss_fn, num_epochs, bs, verbose = False):\n",
    "    loss_dict = {'train':[],'validate':[]}\n",
    "    phases = ['train','validate']\n",
    "    best_loss = 1e30\n",
    "    since = time.time()\n",
    "    for i in range(num_epochs):\n",
    "        print('Epoch: {}/{}'.format(i, num_epochs-1))\n",
    "        print('-'*10)\n",
    "        for p in phases:\n",
    "            # running_correct = 0\n",
    "            running_loss = 0\n",
    "            running_total = 0\n",
    "            if p == 'train':\n",
    "                model.train()\n",
    "            else:\n",
    "                model.eval()\n",
    "            for data in dataloader[p]:\n",
    "                optimizer.zero_grad()            \n",
    "                image = data['x'].to(device)\n",
    "                label = data['y'].to(device)\n",
    "                output = model(image)\n",
    "                #print('hi')\n",
    "\n",
    "                # output_flattened = output.permute(0, 2, 3, 1).contiguous().view(-1, 7)\n",
    "                # label_flattened = label.view(-1).contiguous()  \n",
    "                loss = loss_fn(output, label)     \n",
    "                #print('hi')\n",
    "                #print(output.shape)\n",
    "                #reshaped_output = output.view(bs, 8, -1)\n",
    "                reshaped_output = output.view(output.shape[0], 8, -1)\n",
    "                _, preds = torch.max(reshaped_output, dim = 1)\n",
    "                preds = preds.view(output.shape[0],388,388)\n",
    "                num_imgs = image.size()[0]\n",
    "\n",
    "                running_loss += loss.item()*num_imgs\n",
    "                running_total += num_imgs\n",
    "                \n",
    "                if p== 'train':\n",
    "                    loss.backward()\n",
    "                    optimizer.step()\n",
    "            epoch_loss = float(running_loss/running_total)\n",
    "            if verbose or (i%10 == 0):\n",
    "                print('Phase:{}, epoch loss: {:.4f}'.format(p, epoch_loss))\n",
    "\n",
    "            loss_dict[p].append(epoch_loss)\n",
    "            if p == 'validate':\n",
    "                if epoch_loss < best_loss:\n",
    "                    best_loss = epoch_loss\n",
    "                    best_model_wts = deepcopy(model.state_dict())\n",
    "    time_elapsed = time.time() - since\n",
    "    print('Training complete in {:.0f}m {:.0f}s'.format(time_elapsed // 60, time_elapsed % 60))\n",
    "    \n",
    "    model.load_state_dict(best_model_wts)\n",
    "    \n",
    "    return model, loss_dict\n",
    "\n",
    "\n"
   ]
  },
  {
   "cell_type": "code",
   "execution_count": 6,
   "id": "bf54a7c5-4b6d-40a5-9e97-bad55d9a849d",
   "metadata": {},
   "outputs": [],
   "source": [
    "bs = 16\n",
    "\n",
    "torch.cuda.empty_cache()\n",
    "\n",
    "current_directory = os.getcwd()\n",
    "data_directory = os.path.join(current_directory, '..', 'data')\n",
    "\n",
    "dataset = {'train': FashionDataset(os.path.join(data_directory, 'segmentation_train.csv'),'/vast/amr10211/cv_data/images', '/vast/amr10211/cv_data/segm_preprocessed'), \n",
    "           'validate': FashionDataset(os.path.join(data_directory, 'segmentation_val.csv'),'/vast/amr10211/cv_data/images', '/vast/amr10211/cv_data/segm_preprocessed'), \n",
    "           'test': FashionDataset(os.path.join(data_directory, 'segmentation_test.csv'),'/vast/amr10211/cv_data/images', '/vast/amr10211/cv_data/segm_preprocessed')}\n",
    "dataloader = {x: DataLoader(dataset[x], batch_size=bs,\n",
    "                        shuffle=True, num_workers=0) for x in ['train', 'validate']}\n",
    "\n",
    "model = UNet(n_class = 8).to(device)\n",
    "criterion = nn.CrossEntropyLoss()\n",
    "optimizer = optim.Adam(model.parameters())"
   ]
  },
  {
   "cell_type": "code",
   "execution_count": 7,
   "id": "b1f7dc81-6eae-4530-a5b5-f9826c904369",
   "metadata": {},
   "outputs": [
    {
     "name": "stdout",
     "output_type": "stream",
     "text": [
      "Epoch: 0/9\n",
      "----------\n",
      "Phase:train, epoch loss: 0.8907\n",
      "Phase:validate, epoch loss: 0.8028\n",
      "Epoch: 1/9\n",
      "----------\n",
      "Phase:train, epoch loss: 0.7377\n",
      "Phase:validate, epoch loss: 0.7708\n",
      "Epoch: 2/9\n",
      "----------\n",
      "Phase:train, epoch loss: 0.7136\n",
      "Phase:validate, epoch loss: 0.7346\n",
      "Epoch: 3/9\n",
      "----------\n",
      "Phase:train, epoch loss: 0.7189\n",
      "Phase:validate, epoch loss: 0.9419\n",
      "Epoch: 4/9\n",
      "----------\n",
      "Phase:train, epoch loss: 0.7024\n",
      "Phase:validate, epoch loss: 0.7660\n",
      "Epoch: 5/9\n",
      "----------\n",
      "Phase:train, epoch loss: 0.7043\n",
      "Phase:validate, epoch loss: 0.7204\n",
      "Epoch: 6/9\n",
      "----------\n",
      "Phase:train, epoch loss: 0.6353\n",
      "Phase:validate, epoch loss: 0.6184\n",
      "Epoch: 7/9\n",
      "----------\n",
      "Phase:train, epoch loss: 0.5978\n",
      "Phase:validate, epoch loss: 0.5997\n",
      "Epoch: 8/9\n",
      "----------\n",
      "Phase:train, epoch loss: 0.5951\n",
      "Phase:validate, epoch loss: 0.6746\n",
      "Epoch: 9/9\n",
      "----------\n",
      "Phase:train, epoch loss: 0.5793\n",
      "Phase:validate, epoch loss: 0.5719\n",
      "Training complete in 145m 13s\n"
     ]
    }
   ],
   "source": [
    "model, loss_dict = train_model(model, dataloader, optimizer, loss_fn=criterion, num_epochs=10, bs=bs, verbose=True)"
   ]
  },
  {
   "cell_type": "code",
   "execution_count": 8,
   "id": "be76507e-e12f-430b-9dcf-a65c4116adcc",
   "metadata": {},
   "outputs": [],
   "source": [
    "torch.save(model, 'segmentation_model.pth')"
   ]
  },
  {
   "cell_type": "code",
   "execution_count": 9,
   "id": "f75c15b2-17cf-42ef-be81-4d22778d4b68",
   "metadata": {},
   "outputs": [],
   "source": [
    "with open('segmentation_model_loss_dict.pkl', 'wb') as f:\n",
    "    pickle.dump(loss_dict, f)"
   ]
  },
  {
   "cell_type": "code",
   "execution_count": 27,
   "id": "a6c4d0a3-5dbf-4469-ace1-3f2724a58056",
   "metadata": {},
   "outputs": [
    {
     "data": {
      "text/plain": [
       "[<matplotlib.lines.Line2D at 0x153d299cddc0>]"
      ]
     },
     "execution_count": 27,
     "metadata": {},
     "output_type": "execute_result"
    },
    {
     "data": {
      "image/png": "[encoded data removed]",
      "text/plain": [
       "<Figure size 640x480 with 1 Axes>"
      ]
     },
     "metadata": {},
     "output_type": "display_data"
    }
   ],
   "source": [
    "plt.plot(np.arange(0,10), loss_dict['train'])\n",
    "plt.plot(np.arange(0,10), loss_dict['validate'])"
   ]
  },
  {
   "cell_type": "code",
   "execution_count": 7,
   "id": "bfe022fa-e19d-466d-9440-6327a5f91ed4",
   "metadata": {},
   "outputs": [
    {
     "name": "stdout",
     "output_type": "stream",
     "text": [
      "Epoch: 0/9\n",
      "----------\n",
      "Phase:train, epoch loss: 0.5611\n",
      "Phase:validate, epoch loss: 0.5956\n",
      "Epoch: 1/9\n",
      "----------\n",
      "Phase:train, epoch loss: 0.6081\n",
      "Phase:validate, epoch loss: 1.3166\n",
      "Epoch: 2/9\n",
      "----------\n",
      "Phase:train, epoch loss: 0.6112\n",
      "Phase:validate, epoch loss: 0.5791\n",
      "Epoch: 3/9\n",
      "----------\n",
      "Phase:train, epoch loss: 6.4451\n",
      "Phase:validate, epoch loss: 0.8420\n",
      "Epoch: 4/9\n",
      "----------\n",
      "Phase:train, epoch loss: 0.7596\n",
      "Phase:validate, epoch loss: 0.7654\n",
      "Epoch: 5/9\n",
      "----------\n",
      "Phase:train, epoch loss: 0.7374\n",
      "Phase:validate, epoch loss: 0.7509\n",
      "Epoch: 6/9\n",
      "----------\n",
      "Phase:train, epoch loss: 0.7218\n",
      "Phase:validate, epoch loss: 0.7591\n",
      "Epoch: 7/9\n",
      "----------\n",
      "Phase:train, epoch loss: 0.7080\n",
      "Phase:validate, epoch loss: 0.7146\n",
      "Epoch: 8/9\n",
      "----------\n",
      "Phase:train, epoch loss: 0.7122\n",
      "Phase:validate, epoch loss: 0.7212\n",
      "Epoch: 9/9\n",
      "----------\n",
      "Phase:train, epoch loss: 0.6970\n",
      "Phase:validate, epoch loss: 0.8485\n",
      "Training complete in 92m 4s\n"
     ]
    }
   ],
   "source": [
    "model = torch.load('segmentation_model.pth')\n",
    "model = model.to(device)\n",
    "criterion = nn.CrossEntropyLoss()\n",
    "optimizer = optim.Adam(model.parameters())\n",
    "model, loss_dict = train_model(model, dataloader, optimizer, loss_fn=criterion, num_epochs=10, bs=bs, verbose=True)"
   ]
  },
  {
   "cell_type": "code",
   "execution_count": 8,
   "id": "083da07e-5dd4-4c18-acb8-8fdc2d260ff5",
   "metadata": {},
   "outputs": [],
   "source": [
    "torch.save(model, 'segmentation_model_2.pth')\n",
    "\n",
    "with open('segmentation_model_loss_dict_2.pkl', 'wb') as f:\n",
    "    pickle.dump(loss_dict, f)"
   ]
  },
  {
   "cell_type": "code",
   "execution_count": 9,
   "id": "8e37645d-044e-4d3e-afa0-ef5efbe6b51d",
   "metadata": {},
   "outputs": [
    {
     "data": {
      "text/plain": [
       "[<matplotlib.lines.Line2D at 0x14b9b93cc7d0>]"
      ]
     },
     "execution_count": 9,
     "metadata": {},
     "output_type": "execute_result"
    },
    {
     "data": {
      "image/png": "[encoded data removed]",
      "text/plain": [
       "<Figure size 640x480 with 1 Axes>"
      ]
     },
     "metadata": {},
     "output_type": "display_data"
    }
   ],
   "source": [
    "plt.plot(np.arange(0,10), loss_dict['train'])\n",
    "plt.plot(np.arange(0,10), loss_dict['validate'])"
   ]
  },
  {
   "cell_type": "code",
   "execution_count": 10,
   "id": "e671694b-a771-464f-9139-f3f45a5cd631",
   "metadata": {},
   "outputs": [],
   "source": [
    "model = torch.load('segmentation_model_2.pth')\n",
    "bs = 16\n",
    "optimizer = optim.Adam(model.parameters())\n",
    "loss_fn = nn.CrossEntropyLoss()\n",
    "\n",
    "current_directory = os.getcwd()\n",
    "data_directory = os.path.join(current_directory, '..', 'data')\n",
    "\n",
    "dataset = {'test': FashionDataset(os.path.join(data_directory, 'segmentation_test.csv'),'/vast/amr10211/cv_data/images', '/vast/amr10211/cv_data/segm_preprocessed')}\n",
    "dataloader = {x: DataLoader(dataset[x], batch_size=bs,\n",
    "                        shuffle=False, num_workers=0) for x in ['test']}\n"
   ]
  },
  {
   "cell_type": "code",
   "execution_count": 7,
   "id": "90d15483-4359-4cb7-89c1-8b0edf808c65",
   "metadata": {},
   "outputs": [],
   "source": [
    "def dice_score(y_true, y_pred, num_classes=7):\n",
    "    dice_scores = []\n",
    "    classes = np.unique(y_true)\n",
    "    for class_id in classes:\n",
    "        y_true_class = (y_true == class_id).astype(np.float32)\n",
    "        y_pred_class = (y_pred == class_id).astype(np.float32)\n",
    "        intersection = np.sum(y_true_class * y_pred_class)\n",
    "        dice_score = (2. * intersection) / (np.sum(y_true_class) + np.sum(y_pred_class))\n",
    "        dice_scores.append(dice_score)\n",
    "    return np.mean(dice_scores)"
   ]
  },
  {
   "cell_type": "code",
   "execution_count": 12,
   "id": "b4341fd2-a0b7-4f31-857c-c74d870c9ba0",
   "metadata": {},
   "outputs": [],
   "source": [
    "def fill_pixels(matrix, threshold=0.8, diameter=10):\n",
    "\n",
    "    matrix = matrix.float()\n",
    "\n",
    "    # Define a kernel for 10-pixel diameter\n",
    "    kernel_size = 2 * diameter + 1\n",
    "    kernel = torch.ones(kernel_size, kernel_size).to(matrix.device)\n",
    "\n",
    "    # Dilate the matrix using a max pooling operation\n",
    "    dilated_matrix = F.max_pool2d(matrix.unsqueeze(0).unsqueeze(0), kernel_size=kernel_size, padding=diameter).squeeze()\n",
    "\n",
    "    # Count the number of non-zero elements in the surrounding area\n",
    "    non_zero_count = torch.sum(dilated_matrix > 0, dim=(0, 1))\n",
    "\n",
    "    # Fill pixels where surrounded by non-zero values\n",
    "    result_matrix = torch.where(non_zero_count / (kernel_size * kernel_size) >= threshold, dilated_matrix, matrix)\n",
    "\n",
    "    return result_matrix"
   ]
  },
  {
   "cell_type": "code",
   "execution_count": 13,
   "id": "54d42b82-4c07-483a-ae25-a1db57cb99be",
   "metadata": {},
   "outputs": [],
   "source": [
    "model.eval()\n",
    "dice_scores = []\n",
    "for data in dataloader['test']:\n",
    "    optimizer.zero_grad()            \n",
    "    image = data['x'].to(device)\n",
    "    label = data['y'].to(device)\n",
    "    output = model(image)\n",
    "    loss = loss_fn(output, label)     \n",
    "    reshaped_output = output.view(output.shape[0], 8, -1)\n",
    "    _, pred = torch.max(reshaped_output, dim = 1)\n",
    "    pred = pred.view(output.shape[0],388,388)\n",
    "    for img, lab in zip(pred, label):\n",
    "        #lab = fill_pixels(lab)\n",
    "        dice = dice_score(lab.cpu().numpy(), img.cpu().numpy())\n",
    "        dice_scores.append(dice)\n"
   ]
  },
  {
   "cell_type": "code",
   "execution_count": 14,
   "id": "28f431e2-5866-4b15-8dc3-458a8f79a0d8",
   "metadata": {},
   "outputs": [
    {
     "name": "stdout",
     "output_type": "stream",
     "text": [
      "Average Dice Score: 0.30233431354883766\n"
     ]
    }
   ],
   "source": [
    "avg_dice_score = np.mean(dice_scores)\n",
    "print('Average Dice Score:', avg_dice_score)"
   ]
  },
  {
   "cell_type": "markdown",
   "id": "e2eda440-3144-4ff5-b8e4-419f6d039626",
   "metadata": {},
   "source": [
    "### Full Data for 25 Epochs"
   ]
  },
  {
   "cell_type": "code",
   "execution_count": 9,
   "id": "4c5d4e3b-2184-4d31-a4c2-9d88998e08c4",
   "metadata": {},
   "outputs": [],
   "source": [
    "model = UNet(n_class = 8).to(device)\n",
    "criterion = nn.CrossEntropyLoss()\n",
    "optimizer = optim.Adam(model.parameters())"
   ]
  },
  {
   "cell_type": "code",
   "execution_count": 10,
   "id": "d613ba99-5c35-4ef8-8ffc-e6f41b5283fe",
   "metadata": {},
   "outputs": [
    {
     "name": "stdout",
     "output_type": "stream",
     "text": [
      "Epoch: 0/24\n",
      "----------\n",
      "Phase:train, epoch loss: 0.8959\n",
      "Phase:validate, epoch loss: 0.7854\n",
      "Epoch: 1/24\n",
      "----------\n",
      "Phase:train, epoch loss: 0.7335\n",
      "Phase:validate, epoch loss: 0.7548\n",
      "Epoch: 2/24\n",
      "----------\n"
     ]
    },
    {
     "ename": "KeyboardInterrupt",
     "evalue": "",
     "output_type": "error",
     "traceback": [
      "\u001b[0;31m---------------------------------------------------------------------------\u001b[0m",
      "\u001b[0;31mKeyboardInterrupt\u001b[0m                         Traceback (most recent call last)",
      "Cell \u001b[0;32mIn[10], line 1\u001b[0m\n\u001b[0;32m----> 1\u001b[0m model, loss_dict \u001b[38;5;241m=\u001b[39m train_model(model, dataloader, optimizer, loss_fn\u001b[38;5;241m=\u001b[39mcriterion, num_epochs\u001b[38;5;241m=\u001b[39m\u001b[38;5;241m25\u001b[39m, bs\u001b[38;5;241m=\u001b[39mbs, verbose\u001b[38;5;241m=\u001b[39m\u001b[38;5;28;01mTrue\u001b[39;00m)\n",
      "Cell \u001b[0;32mIn[5], line 17\u001b[0m, in \u001b[0;36mtrain_model\u001b[0;34m(model, dataloader, optimizer, loss_fn, num_epochs, bs, verbose)\u001b[0m\n\u001b[1;32m     15\u001b[0m \u001b[38;5;28;01melse\u001b[39;00m:\n\u001b[1;32m     16\u001b[0m     model\u001b[38;5;241m.\u001b[39meval()\n\u001b[0;32m---> 17\u001b[0m \u001b[38;5;28;01mfor\u001b[39;00m data \u001b[38;5;129;01min\u001b[39;00m dataloader[p]:\n\u001b[1;32m     18\u001b[0m     optimizer\u001b[38;5;241m.\u001b[39mzero_grad()            \n\u001b[1;32m     19\u001b[0m     image \u001b[38;5;241m=\u001b[39m data[\u001b[38;5;124m'\u001b[39m\u001b[38;5;124mx\u001b[39m\u001b[38;5;124m'\u001b[39m]\u001b[38;5;241m.\u001b[39mto(device)\n",
      "File \u001b[0;32m/ext3/miniconda3/lib/python3.12/site-packages/torch/utils/data/dataloader.py:631\u001b[0m, in \u001b[0;36m_BaseDataLoaderIter.__next__\u001b[0;34m(self)\u001b[0m\n\u001b[1;32m    628\u001b[0m \u001b[38;5;28;01mif\u001b[39;00m \u001b[38;5;28mself\u001b[39m\u001b[38;5;241m.\u001b[39m_sampler_iter \u001b[38;5;129;01mis\u001b[39;00m \u001b[38;5;28;01mNone\u001b[39;00m:\n\u001b[1;32m    629\u001b[0m     \u001b[38;5;66;03m# TODO(https://github.com/pytorch/pytorch/issues/76750)\u001b[39;00m\n\u001b[1;32m    630\u001b[0m     \u001b[38;5;28mself\u001b[39m\u001b[38;5;241m.\u001b[39m_reset()  \u001b[38;5;66;03m# type: ignore[call-arg]\u001b[39;00m\n\u001b[0;32m--> 631\u001b[0m data \u001b[38;5;241m=\u001b[39m \u001b[38;5;28mself\u001b[39m\u001b[38;5;241m.\u001b[39m_next_data()\n\u001b[1;32m    632\u001b[0m \u001b[38;5;28mself\u001b[39m\u001b[38;5;241m.\u001b[39m_num_yielded \u001b[38;5;241m+\u001b[39m\u001b[38;5;241m=\u001b[39m \u001b[38;5;241m1\u001b[39m\n\u001b[1;32m    633\u001b[0m \u001b[38;5;28;01mif\u001b[39;00m \u001b[38;5;28mself\u001b[39m\u001b[38;5;241m.\u001b[39m_dataset_kind \u001b[38;5;241m==\u001b[39m _DatasetKind\u001b[38;5;241m.\u001b[39mIterable \u001b[38;5;129;01mand\u001b[39;00m \\\n\u001b[1;32m    634\u001b[0m         \u001b[38;5;28mself\u001b[39m\u001b[38;5;241m.\u001b[39m_IterableDataset_len_called \u001b[38;5;129;01mis\u001b[39;00m \u001b[38;5;129;01mnot\u001b[39;00m \u001b[38;5;28;01mNone\u001b[39;00m \u001b[38;5;129;01mand\u001b[39;00m \\\n\u001b[1;32m    635\u001b[0m         \u001b[38;5;28mself\u001b[39m\u001b[38;5;241m.\u001b[39m_num_yielded \u001b[38;5;241m>\u001b[39m \u001b[38;5;28mself\u001b[39m\u001b[38;5;241m.\u001b[39m_IterableDataset_len_called:\n",
      "File \u001b[0;32m/ext3/miniconda3/lib/python3.12/site-packages/torch/utils/data/dataloader.py:675\u001b[0m, in \u001b[0;36m_SingleProcessDataLoaderIter._next_data\u001b[0;34m(self)\u001b[0m\n\u001b[1;32m    673\u001b[0m \u001b[38;5;28;01mdef\u001b[39;00m \u001b[38;5;21m_next_data\u001b[39m(\u001b[38;5;28mself\u001b[39m):\n\u001b[1;32m    674\u001b[0m     index \u001b[38;5;241m=\u001b[39m \u001b[38;5;28mself\u001b[39m\u001b[38;5;241m.\u001b[39m_next_index()  \u001b[38;5;66;03m# may raise StopIteration\u001b[39;00m\n\u001b[0;32m--> 675\u001b[0m     data \u001b[38;5;241m=\u001b[39m \u001b[38;5;28mself\u001b[39m\u001b[38;5;241m.\u001b[39m_dataset_fetcher\u001b[38;5;241m.\u001b[39mfetch(index)  \u001b[38;5;66;03m# may raise StopIteration\u001b[39;00m\n\u001b[1;32m    676\u001b[0m     \u001b[38;5;28;01mif\u001b[39;00m \u001b[38;5;28mself\u001b[39m\u001b[38;5;241m.\u001b[39m_pin_memory:\n\u001b[1;32m    677\u001b[0m         data \u001b[38;5;241m=\u001b[39m _utils\u001b[38;5;241m.\u001b[39mpin_memory\u001b[38;5;241m.\u001b[39mpin_memory(data, \u001b[38;5;28mself\u001b[39m\u001b[38;5;241m.\u001b[39m_pin_memory_device)\n",
      "File \u001b[0;32m/ext3/miniconda3/lib/python3.12/site-packages/torch/utils/data/_utils/fetch.py:51\u001b[0m, in \u001b[0;36m_MapDatasetFetcher.fetch\u001b[0;34m(self, possibly_batched_index)\u001b[0m\n\u001b[1;32m     49\u001b[0m         data \u001b[38;5;241m=\u001b[39m \u001b[38;5;28mself\u001b[39m\u001b[38;5;241m.\u001b[39mdataset\u001b[38;5;241m.\u001b[39m__getitems__(possibly_batched_index)\n\u001b[1;32m     50\u001b[0m     \u001b[38;5;28;01melse\u001b[39;00m:\n\u001b[0;32m---> 51\u001b[0m         data \u001b[38;5;241m=\u001b[39m [\u001b[38;5;28mself\u001b[39m\u001b[38;5;241m.\u001b[39mdataset[idx] \u001b[38;5;28;01mfor\u001b[39;00m idx \u001b[38;5;129;01min\u001b[39;00m possibly_batched_index]\n\u001b[1;32m     52\u001b[0m \u001b[38;5;28;01melse\u001b[39;00m:\n\u001b[1;32m     53\u001b[0m     data \u001b[38;5;241m=\u001b[39m \u001b[38;5;28mself\u001b[39m\u001b[38;5;241m.\u001b[39mdataset[possibly_batched_index]\n",
      "Cell \u001b[0;32mIn[3], line 49\u001b[0m, in \u001b[0;36mFashionDataset.__getitem__\u001b[0;34m(self, idx)\u001b[0m\n\u001b[1;32m     46\u001b[0m image \u001b[38;5;241m=\u001b[39m (image \u001b[38;5;241m-\u001b[39m min_image)\u001b[38;5;241m/\u001b[39m(max_image \u001b[38;5;241m-\u001b[39m min_image \u001b[38;5;241m+\u001b[39m \u001b[38;5;241m1e-4\u001b[39m)\n\u001b[1;32m     48\u001b[0m \u001b[38;5;66;03m#Convert to tensors\u001b[39;00m\n\u001b[0;32m---> 49\u001b[0m image \u001b[38;5;241m=\u001b[39m torch\u001b[38;5;241m.\u001b[39mtensor(np\u001b[38;5;241m.\u001b[39marray(image))\u001b[38;5;241m.\u001b[39mfloat()\u001b[38;5;241m.\u001b[39mpermute(\u001b[38;5;241m2\u001b[39m, \u001b[38;5;241m0\u001b[39m, \u001b[38;5;241m1\u001b[39m)\n\u001b[1;32m     50\u001b[0m label \u001b[38;5;241m=\u001b[39m torch\u001b[38;5;241m.\u001b[39mtensor(np\u001b[38;5;241m.\u001b[39marray(label))\u001b[38;5;241m.\u001b[39mlong()\n\u001b[1;32m     52\u001b[0m \u001b[38;5;66;03m#sample = {'x': , 'y': }\u001b[39;00m\n",
      "\u001b[0;31mKeyboardInterrupt\u001b[0m: "
     ]
    }
   ],
   "source": [
    "model, loss_dict = train_model(model, dataloader, optimizer, loss_fn=criterion, num_epochs=25, bs=bs, verbose=True)\n"
   ]
  },
  {
   "cell_type": "code",
   "execution_count": null,
   "id": "293e0a79-10c4-4b5b-b54c-0f8d2b13ee98",
   "metadata": {},
   "outputs": [],
   "source": [
    "torch.save(model, 'segmentation_model_25_epochs.pth')"
   ]
  },
  {
   "cell_type": "code",
   "execution_count": null,
   "id": "e24751f9-3bf5-4004-8a2e-270c0ff9932d",
   "metadata": {},
   "outputs": [],
   "source": [
    "with open('segmentation_model_loss_dict_25_epochs.pkl', 'wb') as f:\n",
    "    pickle.dump(loss_dict, f)"
   ]
  },
  {
   "cell_type": "code",
   "execution_count": null,
   "id": "421fe80a-c948-4c70-abd7-a5a5bbadd02a",
   "metadata": {},
   "outputs": [],
   "source": [
    "plt.plot(np.arange(0,10), loss_dict['train'])\n",
    "plt.plot(np.arange(0,10), loss_dict['validate'])"
   ]
  },
  {
   "cell_type": "code",
   "execution_count": null,
   "id": "9c5fee37-d109-4f29-b884-60ac79261dd9",
   "metadata": {},
   "outputs": [],
   "source": [
    "model = torch.load('segmentation_model_25_epochs.pth')\n",
    "bs = 16\n",
    "optimizer = optim.Adam(model.parameters())\n",
    "loss_fn = nn.CrossEntropyLoss()\n",
    "\n",
    "current_directory = os.getcwd()\n",
    "data_directory = os.path.join(current_directory, '..', 'data')\n",
    "\n",
    "dataset = {'test': FashionDataset(os.path.join(data_directory, 'segmentation_test.csv'),'/vast/amr10211/cv_data/images', '/vast/amr10211/cv_data/segm_preprocessed')}\n",
    "dataloader = {x: DataLoader(dataset[x], batch_size=bs,\n",
    "                        shuffle=False, num_workers=0) for x in ['test']}\n"
   ]
  },
  {
   "cell_type": "code",
   "execution_count": null,
   "id": "946c74d8-f007-4c9f-a0b4-9152def08b8c",
   "metadata": {},
   "outputs": [],
   "source": [
    "model.eval()\n",
    "dice_scores = []\n",
    "for data in dataloader['test']:\n",
    "    optimizer.zero_grad()            \n",
    "    image = data['x'].to(device)\n",
    "    label = data['y'].to(device)\n",
    "    output = model(image)\n",
    "    loss = loss_fn(output, label)     \n",
    "    reshaped_output = output.view(output.shape[0], 8, -1)\n",
    "    _, pred = torch.max(reshaped_output, dim = 1)\n",
    "    pred = pred.view(output.shape[0],388,388)\n",
    "    for img, lab in zip(pred, label):\n",
    "        #lab = fill_pixels(lab)\n",
    "        dice = dice_score(lab.cpu().numpy(), img.cpu().numpy())\n",
    "        dice_scores.append(dice)\n",
    "\n",
    "avg_dice_score = np.mean(dice_scores)\n",
    "print('Average Dice Score:', avg_dice_score)"
   ]
  },
  {
   "cell_type": "code",
   "execution_count": null,
   "id": "e17f15ab-111a-434d-a3f4-ba87e3505f01",
   "metadata": {},
   "outputs": [],
   "source": []
  }
 ],
 "metadata": {
  "kernelspec": {
   "display_name": "Python 3 (ipykernel)",
   "language": "python",
   "name": "python3"
  },
  "language_info": {
   "codemirror_mode": {
    "name": "ipython",
    "version": 3
   },
   "file_extension": ".py",
   "mimetype": "text/x-python",
   "name": "python",
   "nbconvert_exporter": "python",
   "pygments_lexer": "ipython3",
   "version": "3.11.7"
  }
 },
 "nbformat": 4,
 "nbformat_minor": 5
}
