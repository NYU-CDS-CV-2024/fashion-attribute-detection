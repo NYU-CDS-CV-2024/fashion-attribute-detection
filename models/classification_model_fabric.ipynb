{
 "cells": [
  {
   "cell_type": "markdown",
   "id": "d871b058-6656-44b2-8518-b1901f8c77b8",
   "metadata": {},
   "source": [
    "## Fabric: EfficientNetV2"
   ]
  },
  {
   "cell_type": "code",
   "execution_count": 2,
   "id": "e36322a3-b55b-43c8-a75f-03ce0d1414e7",
   "metadata": {},
   "outputs": [],
   "source": [
    "import tqdm as tqdm\n",
    "import torch\n",
    "import torch.nn as nn\n",
    "from torchvision import models\n",
    "import torchvision.transforms as transforms\n",
    "from torch.nn.functional import relu\n",
    "import pandas as pd\n",
    "import os\n",
    "from sklearn.model_selection import train_test_split\n",
    "from skimage import io\n",
    "import torch\n",
    "from skimage import color\n",
    "from sklearn.preprocessing import LabelEncoder\n",
    "import torch.nn as nn\n",
    "import torch.nn.functional as F\n",
    "from torch.utils.data import Dataset, DataLoader\n",
    "import time\n",
    "import numpy as np\n",
    "import matplotlib.pyplot as plt\n",
    "import torch.optim as optim\n",
    "import torch.nn.init as init\n",
    "from PIL import Image, ImageOps\n",
    "import pickle\n",
    "import numpy as np\n",
    "from sklearn.metrics import f1_score, roc_auc_score\n",
    "from sklearn.preprocessing import label_binarize\n",
    "from copy import deepcopy"
   ]
  },
  {
   "cell_type": "code",
   "execution_count": 3,
   "id": "1ee99e93-c50d-4d0a-91cf-b1f768c734be",
   "metadata": {},
   "outputs": [
    {
     "name": "stdout",
     "output_type": "stream",
     "text": [
      "y\n"
     ]
    }
   ],
   "source": [
    "if torch.cuda.is_available():\n",
    "    device = torch.device('cuda')\n",
    "    print('y')\n",
    "else:\n",
    "    device = torch.device('cpu')\n",
    "    print('n')"
   ]
  },
  {
   "cell_type": "code",
   "execution_count": 4,
   "id": "42a13fd2-9fea-4a12-acc2-70d99b6d2741",
   "metadata": {},
   "outputs": [],
   "source": [
    "# Sample Data\n",
    "sample_train_data = pd.read_csv( '../data/train_sample_fabric.csv')\n",
    "sample_val_data =  pd.read_csv( '../data/val_sample_fabric.csv')\n",
    "sample_test_data =  pd.read_csv( '../data/test_sample_fabric.csv')"
   ]
  },
  {
   "cell_type": "code",
   "execution_count": 5,
   "id": "387647ad-7fae-46a5-8ce8-e02614ce29d5",
   "metadata": {},
   "outputs": [],
   "source": [
    "# Full Data\n",
    "full_train_data = pd.read_csv( '../data/classification_train.csv')\n",
    "full_val_data =  pd.read_csv( '../data/classification_val.csv')\n",
    "full_test_data =  pd.read_csv( '../data/classification_test.csv')"
   ]
  },
  {
   "cell_type": "code",
   "execution_count": 6,
   "id": "a744d39b-949a-45bb-b527-6d2085592dfb",
   "metadata": {},
   "outputs": [],
   "source": [
    "class FashionDataset(Dataset):\n",
    "    def __init__(self, data_frame, img_dir, label, transform=None):\n",
    "        \"\"\"\n",
    "        Args:\n",
    "            csv_file (string): Path to the csv file filename information.\n",
    "            root_dir (string): Directory with all the images.\n",
    "            transform (callable, optional): Optional transform to be applied\n",
    "                on a sample.\n",
    "        \"\"\"\n",
    "        self.data_frame = data_frame\n",
    "        self.img_dir = img_dir\n",
    "        self.clothing_type = data_frame['clothing_type']\n",
    "        self.label = data_frame[label]\n",
    "\n",
    "        self.transform = transform            \n",
    "\n",
    "    def __len__(self):\n",
    "        return len(self.data_frame)\n",
    "\n",
    "    def __getitem__(self, idx):\n",
    "        img_name = os.path.join(self.img_dir,\n",
    "                                self.data_frame.iloc[idx, 0])\n",
    "        image = Image.open(img_name)\n",
    "        label = self.label[idx]\n",
    "        clothing_type = self.clothing_type[idx] \n",
    "        \n",
    "        #Resize image and label to 572x572\n",
    "        image = image.resize((572, 572))\n",
    "\n",
    "        #Normalize the image\n",
    "        image = np.asarray(image)\n",
    "        min_image = np.min(image)\n",
    "        max_image = np.max(image)\n",
    "        image = (image - min_image)/(max_image - min_image + 1e-4)\n",
    "\n",
    "        #Convert to tensors\n",
    "        image = torch.tensor(np.array(image)).float().permute(2, 0, 1)\n",
    "        label = torch.tensor(label).long()\n",
    "        clothing_type = torch.tensor(clothing_type).long()\n",
    "        sample = {'x': image, 'y': label, 'c': clothing_type}\n",
    "\n",
    "        if self.transform:\n",
    "            sample = self.transform(sample)\n",
    "\n",
    "        return sample"
   ]
  },
  {
   "cell_type": "code",
   "execution_count": 7,
   "id": "53d16d9c-220b-4f6c-9453-00f98606ae80",
   "metadata": {},
   "outputs": [],
   "source": [
    "class EfficientNetV2(nn.Module):\n",
    "    def __init__(self, num_classes=6):\n",
    "        super(EfficientNetV2, self).__init__()\n",
    "        self.efficientnet_v2 = models.efficientnet_v2_m(weights=None)\n",
    "        num_ftrs = self.efficientnet_v2.classifier[-1].in_features\n",
    "        self.efficientnet_v2.classifier[-1] = nn.Linear(num_ftrs, num_classes)\n",
    "\n",
    "    def forward(self, x):\n",
    "        return self.efficientnet_v2(x)"
   ]
  },
  {
   "cell_type": "code",
   "execution_count": 8,
   "id": "301f5e41-d5c2-4802-b665-15cf081314c3",
   "metadata": {},
   "outputs": [],
   "source": [
    "def train_model(model, dataloader, optimizer,  loss_fn, num_epochs = 10, verbose = False):\n",
    "    f1_dict = {'train':[],'validate':[]}\n",
    "    loss_dict = {'train':[],'validate':[]}\n",
    "    best_loss = np.inf\n",
    "    best_f1 = 0\n",
    "    best_acc = 0\n",
    "    phases = ['train','validate']\n",
    "    since = time.time()\n",
    "    for i in range(num_epochs):\n",
    "        print('Epoch: {}/{}'.format(i, num_epochs-1))\n",
    "        print('-'*10)\n",
    "        for p in phases:\n",
    "            running_correct = 0\n",
    "            running_loss = 0\n",
    "            running_total = 0\n",
    "            all_preds = []\n",
    "            all_labels = []\n",
    "            if p == 'train':\n",
    "                model.train()\n",
    "            else:\n",
    "                model.eval()\n",
    "            for data in dataloader[p]:\n",
    "                optimizer.zero_grad()            \n",
    "                image = data['x'].to(device)\n",
    "                label = data['y'].to(device)\n",
    "                output = model(image)\n",
    "                loss = loss_fn(output, label)\n",
    "                _, preds = torch.max(output, dim = 1)\n",
    "                num_imgs = image.size()[0]\n",
    "                running_correct += torch.sum(preds ==label).item()\n",
    "                running_loss += loss.item()*num_imgs\n",
    "                running_total += num_imgs\n",
    "                all_preds.extend(preds.cpu().numpy())\n",
    "                all_labels.extend(label.cpu().numpy())\n",
    "                if p== 'train':\n",
    "                    loss.backward()\n",
    "                    optimizer.step()\n",
    "            epoch_acc = float(running_correct/running_total)\n",
    "            epoch_loss = float(running_loss/running_total)\n",
    "            epoch_f1 = f1_score(all_labels, all_preds, average='macro')\n",
    "            if verbose or (i%10 == 0):\n",
    "                print('Phase:{}, epoch loss: {:.4f} Acc: {:.4f} F1 {:.4f}'.format(p, epoch_loss, epoch_acc, epoch_f1))\n",
    "\n",
    "            f1_dict[p].append(epoch_f1)\n",
    "            loss_dict[p].append(epoch_loss)\n",
    "            if p == 'validate':\n",
    "                if epoch_f1 > best_f1:\n",
    "                    best_loss = epoch_loss\n",
    "                    best_acc = epoch_acc\n",
    "                    best_f1 = epoch_f1\n",
    "                    best_model_wts = deepcopy(model.state_dict())\n",
    "    time_elapsed = time.time() - since\n",
    "    print('Training complete in {:.0f}m {:.0f}s'.format(time_elapsed // 60, time_elapsed % 60))\n",
    "    print('Best model val acc: {:4f} Best model val F1: {:4f}'.format(best_acc, best_f1))\n",
    "    \n",
    "    model.load_state_dict(best_model_wts)\n",
    "    \n",
    "    return model, f1_dict, loss_dict\n"
   ]
  },
  {
   "cell_type": "markdown",
   "id": "bc7ac105-b007-4a43-8b36-0daca6ac468d",
   "metadata": {},
   "source": [
    "### Baseline Fabric Classification Model"
   ]
  },
  {
   "cell_type": "code",
   "execution_count": 9,
   "id": "867271a9-0280-4bbb-98f8-869115529790",
   "metadata": {},
   "outputs": [],
   "source": [
    "bs = 8\n",
    "efficientnetv2_dataset = {'train': FashionDataset(full_train_data,'/vast/amr10211/cv_data/masked_images', 'fabric'), \n",
    "                  'validate': FashionDataset(full_val_data,'/vast/amr10211/cv_data/masked_images', 'fabric'), \n",
    "                  'test': FashionDataset(full_test_data, '/vast/amr10211/cv_data/masked_images', 'fabric')}\n",
    "\n",
    "efficientnetv2_dataloader = {x: DataLoader(efficientnetv2_dataset[x], batch_size=bs,\n",
    "                        shuffle=True, num_workers=0) for x in ['train', 'validate', 'test']}"
   ]
  },
  {
   "cell_type": "code",
   "execution_count": 10,
   "id": "f9b3b35c-f685-4623-85a9-77555c7a5974",
   "metadata": {},
   "outputs": [
    {
     "name": "stdout",
     "output_type": "stream",
     "text": [
      "Epoch: 0/9\n",
      "----------\n",
      "Phase:train, epoch loss: 1.0959 Acc: 0.6286 F1 0.1659\n",
      "Phase:validate, epoch loss: 0.9831 Acc: 0.6160 F1 0.1554\n",
      "Epoch: 1/9\n",
      "----------\n",
      "Phase:train, epoch loss: 0.9529 Acc: 0.6532 F1 0.2204\n",
      "Phase:validate, epoch loss: 1.0188 Acc: 0.6156 F1 0.1270\n",
      "Epoch: 2/9\n",
      "----------\n",
      "Phase:train, epoch loss: 0.9154 Acc: 0.6605 F1 0.2678\n",
      "Phase:validate, epoch loss: 0.9090 Acc: 0.6583 F1 0.3271\n",
      "Epoch: 3/9\n",
      "----------\n",
      "Phase:train, epoch loss: 0.8864 Acc: 0.6771 F1 0.2926\n",
      "Phase:validate, epoch loss: 0.8869 Acc: 0.6628 F1 0.3562\n",
      "Epoch: 4/9\n",
      "----------\n",
      "Phase:train, epoch loss: 0.8588 Acc: 0.6892 F1 0.3202\n",
      "Phase:validate, epoch loss: 0.8442 Acc: 0.6931 F1 0.3731\n",
      "Epoch: 5/9\n",
      "----------\n",
      "Phase:train, epoch loss: 0.8496 Acc: 0.6958 F1 0.3236\n",
      "Phase:validate, epoch loss: 0.8461 Acc: 0.6920 F1 0.3632\n",
      "Epoch: 6/9\n",
      "----------\n",
      "Phase:train, epoch loss: 0.8278 Acc: 0.7049 F1 0.3344\n",
      "Phase:validate, epoch loss: 0.8937 Acc: 0.6767 F1 0.3771\n",
      "Epoch: 7/9\n",
      "----------\n",
      "Phase:train, epoch loss: 0.8150 Acc: 0.7139 F1 0.3546\n",
      "Phase:validate, epoch loss: 0.8243 Acc: 0.6984 F1 0.3604\n",
      "Epoch: 8/9\n",
      "----------\n",
      "Phase:train, epoch loss: 0.8065 Acc: 0.7165 F1 0.3548\n",
      "Phase:validate, epoch loss: 0.7998 Acc: 0.7134 F1 0.4003\n",
      "Epoch: 9/9\n",
      "----------\n",
      "Phase:train, epoch loss: 0.7910 Acc: 0.7237 F1 0.3588\n",
      "Phase:validate, epoch loss: 0.7769 Acc: 0.7126 F1 0.4076\n",
      "Training complete in 171m 33s\n",
      "Best model val acc: 0.712626 Best model val F1: 0.407614\n"
     ]
    }
   ],
   "source": [
    "efficientnetv2_model_fabric = EfficientNetV2().to(device)\n",
    "criterion = nn.CrossEntropyLoss()\n",
    "optimizer = optim.Adam(efficientnetv2_model_fabric.parameters(), lr=0.001)\n",
    "\n",
    "efficientnetv2_model_fabric, efficientnetv2_f1_dict, efficientnetv2_loss_dict = train_model(efficientnetv2_model_fabric, \n",
    "                                                                     efficientnetv2_dataloader, \n",
    "                                                                     optimizer, \n",
    "                                                                     loss_fn=criterion, \n",
    "                                                                     num_epochs=10, \n",
    "                                                                     verbose=True)"
   ]
  },
  {
   "cell_type": "code",
   "execution_count": 11,
   "id": "9f202673-eb69-434b-8f40-4b085f42f2b0",
   "metadata": {},
   "outputs": [],
   "source": [
    "torch.save(efficientnetv2_model_fabric, 'fabric_classification_model_baseline_efficientnetv2.pth')"
   ]
  },
  {
   "cell_type": "code",
   "execution_count": 12,
   "id": "60f33b6b-6771-4387-ab4e-803f10bb6160",
   "metadata": {},
   "outputs": [],
   "source": [
    "with open('fabric_classification_model_loss_dict_baseline_efficientnetv2.pkl', 'wb') as f:\n",
    "    pickle.dump(efficientnetv2_loss_dict, f)"
   ]
  },
  {
   "cell_type": "code",
   "execution_count": 13,
   "id": "02bd4ead-062b-4ef5-8cf0-5154c91b1aa4",
   "metadata": {},
   "outputs": [
    {
     "data": {
      "image/png": "[encoded data removed]",
      "text/plain": [
       "<Figure size 640x480 with 1 Axes>"
      ]
     },
     "metadata": {},
     "output_type": "display_data"
    }
   ],
   "source": [
    "plt.plot(np.arange(0,10), efficientnetv2_loss_dict['train'])\n",
    "plt.plot(np.arange(0,10), efficientnetv2_loss_dict['validate'])\n",
    "plt.ylim(0,2);"
   ]
  },
  {
   "cell_type": "code",
   "execution_count": 14,
   "id": "cad2da0d-acc4-469f-aaa1-f73ec7098c63",
   "metadata": {},
   "outputs": [
    {
     "name": "stdout",
     "output_type": "stream",
     "text": [
      "72.64993286132812\n"
     ]
    }
   ],
   "source": [
    "correct = 0\n",
    "total = 0\n",
    "efficientnetv2_model_fabric.eval()\n",
    "for data in efficientnetv2_dataloader['test']:\n",
    "    optimizer.zero_grad()            \n",
    "    image = data['x'].to(device)\n",
    "    label = data['y'].to(device)\n",
    "    output = efficientnetv2_model_fabric(image)\n",
    "    pred = torch.argmax(output, axis=1)\n",
    "    total += label.size(0)\n",
    "    correct += (pred == label).sum()\n",
    "\n",
    "test_acc = float(100 * correct / total)\n",
    "print(test_acc)"
   ]
  },
  {
   "cell_type": "code",
   "execution_count": 15,
   "id": "b5d89996-40d0-4cd2-88cd-12294921b507",
   "metadata": {},
   "outputs": [
    {
     "name": "stdout",
     "output_type": "stream",
     "text": [
      "Macro F1 score: 0.38284320650068887\n",
      "One-vs-all AUC: 0.6325944635199033\n"
     ]
    }
   ],
   "source": [
    "efficientnetv2_model_fabric.eval()\n",
    "y_true = []\n",
    "y_pred = []\n",
    "\n",
    "for data in efficientnetv2_dataloader['test']:\n",
    "    optimizer.zero_grad()            \n",
    "    image = data['x'].to(device)\n",
    "    label = data['y'].to(device)\n",
    "    output = efficientnetv2_model_fabric(image)\n",
    "    pred = torch.argmax(output, axis=1)\n",
    "    y_true.extend(label.cpu().numpy())\n",
    "    y_pred.extend(pred.cpu().numpy())\n",
    "\n",
    "y_true = np.array(y_true)\n",
    "y_pred = np.array(y_pred)\n",
    "\n",
    "# Macro F1 score\n",
    "macro_f1 = f1_score(y_true, y_pred, average='macro')\n",
    "\n",
    "# One-vs-all AUC\n",
    "# Binarize the labels\n",
    "y_true_bin = label_binarize(y_true, classes=np.unique(y_true))\n",
    "n_classes = y_true_bin.shape[1]\n",
    "\n",
    "# Calculate one-vs-all AUC for each class\n",
    "auc_scores = []\n",
    "for i in range(n_classes):\n",
    "    auc = roc_auc_score(y_true_bin[:, i], y_pred == i)\n",
    "    auc_scores.append(auc)\n",
    "\n",
    "# Average AUC scores across all classes\n",
    "one_vs_all_auc = np.mean(auc_scores)\n",
    "\n",
    "print(\"Macro F1 score:\", macro_f1)\n",
    "print(\"One-vs-all AUC:\", one_vs_all_auc)"
   ]
  },
  {
   "cell_type": "markdown",
   "id": "b994e0ee-6a67-4ebc-885e-ab3a96e1df20",
   "metadata": {},
   "source": [
    "### Hyperparameter Tuning"
   ]
  },
  {
   "cell_type": "code",
   "execution_count": 9,
   "id": "7318ebde-7bbf-4822-b70d-463bd6c7cd1d",
   "metadata": {},
   "outputs": [
    {
     "name": "stdout",
     "output_type": "stream",
     "text": [
      "--------------------------------------------------\n",
      "learning rate=1e-05 and batch_size=8\n",
      "--------------------------------------------------\n",
      "Epoch: 0/9\n",
      "----------\n",
      "Phase:train, epoch loss: 1.7529 Acc: 0.3427 F1 0.1498\n",
      "Phase:validate, epoch loss: 1.7540 Acc: 0.6119 F1 0.1265\n",
      "Epoch: 1/9\n",
      "----------\n",
      "Phase:train, epoch loss: 1.6832 Acc: 0.4234 F1 0.1608\n",
      "Phase:validate, epoch loss: 1.6750 Acc: 0.5821 F1 0.1226\n",
      "Epoch: 2/9\n",
      "----------\n",
      "Phase:train, epoch loss: 1.6174 Acc: 0.5323 F1 0.1395\n",
      "Phase:validate, epoch loss: 1.6094 Acc: 0.6119 F1 0.1265\n",
      "Epoch: 3/9\n",
      "----------\n",
      "Phase:train, epoch loss: 1.5550 Acc: 0.6230 F1 0.1405\n",
      "Phase:validate, epoch loss: 1.5657 Acc: 0.6119 F1 0.1265\n",
      "Epoch: 4/9\n",
      "----------\n",
      "Phase:train, epoch loss: 1.4815 Acc: 0.6250 F1 0.1484\n",
      "Phase:validate, epoch loss: 1.5122 Acc: 0.6119 F1 0.1265\n",
      "Epoch: 5/9\n",
      "----------\n",
      "Phase:train, epoch loss: 1.4293 Acc: 0.6310 F1 0.1290\n",
      "Phase:validate, epoch loss: 1.4611 Acc: 0.6119 F1 0.1265\n",
      "Epoch: 6/9\n",
      "----------\n",
      "Phase:train, epoch loss: 1.3660 Acc: 0.6290 F1 0.1287\n",
      "Phase:validate, epoch loss: 1.3636 Acc: 0.6119 F1 0.1265\n",
      "Epoch: 7/9\n",
      "----------\n",
      "Phase:train, epoch loss: 1.3195 Acc: 0.6310 F1 0.1290\n",
      "Phase:validate, epoch loss: 1.3437 Acc: 0.6119 F1 0.1265\n",
      "Epoch: 8/9\n",
      "----------\n",
      "Phase:train, epoch loss: 1.2853 Acc: 0.6310 F1 0.1290\n",
      "Phase:validate, epoch loss: 1.2901 Acc: 0.6119 F1 0.1265\n",
      "Epoch: 9/9\n",
      "----------\n",
      "Phase:train, epoch loss: 1.2573 Acc: 0.6310 F1 0.1290\n",
      "Phase:validate, epoch loss: 1.2621 Acc: 0.6119 F1 0.1265\n",
      "Training complete in 4m 28s\n",
      "Best model val acc: 0.611940 Best model val F1: 0.126543\n",
      "Train AUC for lr=1e-05 and batch_size=8:\n",
      "0.47\n",
      "Train F1 Score for lr=1e-05 and batch_size=8:\n",
      "0.13\n",
      "Val AUC for lr=1e-05 and batch_size=8:\n",
      "0.41\n",
      "Val F1 Score for lr=1e-05 and batch_size=8:\n",
      "0.13\n",
      "--------------------------------------------------\n",
      "learning rate=0.0001 and batch_size=8\n",
      "--------------------------------------------------\n",
      "Epoch: 0/9\n",
      "----------\n",
      "Phase:train, epoch loss: 1.5070 Acc: 0.4980 F1 0.1797\n",
      "Phase:validate, epoch loss: 1.4376 Acc: 0.6119 F1 0.1265\n",
      "Epoch: 1/9\n",
      "----------\n",
      "Phase:train, epoch loss: 1.2010 Acc: 0.6230 F1 0.1342\n",
      "Phase:validate, epoch loss: 1.2132 Acc: 0.5970 F1 0.1246\n",
      "Epoch: 2/9\n",
      "----------\n",
      "Phase:train, epoch loss: 1.1574 Acc: 0.6230 F1 0.1341\n",
      "Phase:validate, epoch loss: 1.2562 Acc: 0.5821 F1 0.1226\n",
      "Epoch: 3/9\n",
      "----------\n",
      "Phase:train, epoch loss: 1.1145 Acc: 0.6411 F1 0.1738\n",
      "Phase:validate, epoch loss: 1.7782 Acc: 0.5224 F1 0.1605\n",
      "Epoch: 4/9\n",
      "----------\n",
      "Phase:train, epoch loss: 1.0542 Acc: 0.6532 F1 0.2008\n",
      "Phase:validate, epoch loss: 1.1319 Acc: 0.6418 F1 0.1850\n",
      "Epoch: 5/9\n",
      "----------\n",
      "Phase:train, epoch loss: 1.0243 Acc: 0.6512 F1 0.1921\n",
      "Phase:validate, epoch loss: 1.1977 Acc: 0.5672 F1 0.1914\n",
      "Epoch: 6/9\n",
      "----------\n",
      "Phase:train, epoch loss: 1.0217 Acc: 0.6653 F1 0.2273\n",
      "Phase:validate, epoch loss: 1.0851 Acc: 0.6269 F1 0.1933\n",
      "Epoch: 7/9\n",
      "----------\n",
      "Phase:train, epoch loss: 0.9774 Acc: 0.6694 F1 0.2208\n",
      "Phase:validate, epoch loss: 1.0820 Acc: 0.6269 F1 0.1813\n",
      "Epoch: 8/9\n",
      "----------\n",
      "Phase:train, epoch loss: 0.9799 Acc: 0.6552 F1 0.2023\n",
      "Phase:validate, epoch loss: 1.0530 Acc: 0.6418 F1 0.1850\n",
      "Epoch: 9/9\n",
      "----------\n",
      "Phase:train, epoch loss: 0.9809 Acc: 0.6694 F1 0.2185\n",
      "Phase:validate, epoch loss: 1.0696 Acc: 0.6418 F1 0.2375\n",
      "Training complete in 4m 19s\n",
      "Best model val acc: 0.641791 Best model val F1: 0.237477\n",
      "Train AUC for lr=0.0001 and batch_size=8:\n",
      "0.84\n",
      "Train F1 Score for lr=0.0001 and batch_size=8:\n",
      "0.29\n",
      "Val AUC for lr=0.0001 and batch_size=8:\n",
      "0.69\n",
      "Val F1 Score for lr=0.0001 and batch_size=8:\n",
      "0.24\n",
      "--------------------------------------------------\n",
      "learning rate=0.001 and batch_size=8\n",
      "--------------------------------------------------\n",
      "Epoch: 0/9\n",
      "----------\n",
      "Phase:train, epoch loss: 1.2913 Acc: 0.5847 F1 0.1371\n",
      "Phase:validate, epoch loss: 1.4249 Acc: 0.6119 F1 0.1265\n",
      "Epoch: 1/9\n",
      "----------\n",
      "Phase:train, epoch loss: 1.1841 Acc: 0.6310 F1 0.1291\n",
      "Phase:validate, epoch loss: 5.7616 Acc: 0.6119 F1 0.1265\n",
      "Epoch: 2/9\n",
      "----------\n",
      "Phase:train, epoch loss: 1.2016 Acc: 0.6290 F1 0.1443\n",
      "Phase:validate, epoch loss: 5.7228 Acc: 0.5821 F1 0.1226\n",
      "Epoch: 3/9\n",
      "----------\n",
      "Phase:train, epoch loss: 1.1746 Acc: 0.6310 F1 0.1290\n",
      "Phase:validate, epoch loss: 1.6019 Acc: 0.5224 F1 0.1155\n",
      "Epoch: 4/9\n",
      "----------\n",
      "Phase:train, epoch loss: 1.1512 Acc: 0.6190 F1 0.1364\n",
      "Phase:validate, epoch loss: 6.0512 Acc: 0.6119 F1 0.1265\n",
      "Epoch: 5/9\n",
      "----------\n",
      "Phase:train, epoch loss: 1.1738 Acc: 0.6310 F1 0.1291\n",
      "Phase:validate, epoch loss: 1.7175 Acc: 0.5970 F1 0.1583\n",
      "Epoch: 6/9\n",
      "----------\n",
      "Phase:train, epoch loss: 1.1553 Acc: 0.6310 F1 0.1290\n",
      "Phase:validate, epoch loss: 1.2031 Acc: 0.6119 F1 0.1265\n",
      "Epoch: 7/9\n",
      "----------\n",
      "Phase:train, epoch loss: 1.1443 Acc: 0.6290 F1 0.1289\n",
      "Phase:validate, epoch loss: 1.3214 Acc: 0.6119 F1 0.1265\n",
      "Epoch: 8/9\n",
      "----------\n",
      "Phase:train, epoch loss: 1.1658 Acc: 0.6310 F1 0.1291\n",
      "Phase:validate, epoch loss: 1.1923 Acc: 0.6119 F1 0.1265\n",
      "Epoch: 9/9\n",
      "----------\n",
      "Phase:train, epoch loss: 1.1487 Acc: 0.6310 F1 0.1290\n",
      "Phase:validate, epoch loss: 1.2171 Acc: 0.5970 F1 0.1246\n",
      "Training complete in 4m 19s\n",
      "Best model val acc: 0.597015 Best model val F1: 0.158333\n",
      "Train AUC for lr=0.001 and batch_size=8:\n",
      "0.53\n",
      "Train F1 Score for lr=0.001 and batch_size=8:\n",
      "0.14\n",
      "Val AUC for lr=0.001 and batch_size=8:\n",
      "0.55\n",
      "Val F1 Score for lr=0.001 and batch_size=8:\n",
      "0.16\n"
     ]
    }
   ],
   "source": [
    "batch_sizes = [8]\n",
    "learning_rates = [0.00001, 0.0001, 0.001]\n",
    "\n",
    "efficientnetv2_dataset = {'train': FashionDataset(sample_train_data,'/vast/amr10211/cv_data/masked_images', 'fabric'), \n",
    "                  'validate': FashionDataset(sample_val_data,'/vast/amr10211/cv_data/masked_images', 'fabric'), \n",
    "                  'test': FashionDataset(sample_test_data, '/vast/amr10211/cv_data/masked_images', 'fabric')}\n",
    "\n",
    "f1_dicts = []\n",
    "loss_dicts = []\n",
    "val_auc = []\n",
    "train_auc = []\n",
    "val_f1 = []\n",
    "train_f1 = []\n",
    "\n",
    "for batch_size in batch_sizes:\n",
    "    sample_dataloader = {x: DataLoader(efficientnetv2_dataset[x], batch_size=batch_size,\n",
    "                        shuffle=True, num_workers=0) for x in ['train', 'validate']}\n",
    "    \n",
    "    lr_f1_dict = []\n",
    "    lr_loss_dict = []\n",
    "    lr_val_auc = []\n",
    "    lr_train_auc = []\n",
    "    lr_val_f1 = []\n",
    "    lr_train_f1 = []\n",
    "    \n",
    "    for learning_rate in learning_rates:\n",
    "\n",
    "        print('-'*50)\n",
    "        print(f'learning rate={learning_rate} and batch_size={batch_size}')\n",
    "        print('-'*50)\n",
    "\n",
    "        tune_model = EfficientNetV2().to(device)\n",
    "        loss_fn = nn.CrossEntropyLoss()\n",
    "        optimizer = optim.Adam(tune_model.parameters(), lr=learning_rate)\n",
    "\n",
    "        tune_model_out, tune_f1_dict, tune_loss_dict = train_model(tune_model, \n",
    "                                                                    sample_dataloader, \n",
    "                                                                    optimizer, \n",
    "                                                                    loss_fn, \n",
    "                                                                    num_epochs=10, \n",
    "                                                                    verbose = True)\n",
    "        \n",
    "        lr_f1_dict.append(tune_f1_dict)\n",
    "        lr_loss_dict.append(tune_loss_dict)\n",
    "        \n",
    "        # AUC for train dataset\n",
    "        tune_model_out.eval()\n",
    "        train_predictions = []\n",
    "        train_targets = []\n",
    "        for data in sample_dataloader['train']:\n",
    "            image = data['x'].to(device)\n",
    "            label = data['y'].to(device)\n",
    "            logits = tune_model_out(image)\n",
    "            train_predictions.extend(torch.softmax(logits, dim=1).cpu().detach().numpy())\n",
    "            train_targets.extend(label.cpu().detach().numpy())\n",
    "\n",
    "        train_auc_score = roc_auc_score(np.array(train_targets), np.array(train_predictions), average='macro', multi_class='ovr')\n",
    "        train_f1_score = f1_score(np.array(train_targets), np.argmax(np.array(train_predictions), axis=1), average='macro')\n",
    "        print(f'Train AUC for lr={learning_rate} and batch_size={batch_size}:\\n{train_auc_score:.2f}')\n",
    "        print(f'Train F1 Score for lr={learning_rate} and batch_size={batch_size}:\\n{train_f1_score:.2f}')\n",
    "        lr_train_auc.append(train_auc_score)\n",
    "        lr_train_f1.append(train_f1_score)\n",
    "        \n",
    "\n",
    "        # AUC for val dataset\n",
    "        tune_model_out.eval()\n",
    "        val_predictions = []\n",
    "        val_targets = []\n",
    "        for data in sample_dataloader['validate']:\n",
    "            image = data['x'].to(device)\n",
    "            label = data['y'].to(device)\n",
    "            logits = tune_model_out(image)\n",
    "\n",
    "            val_predictions.extend(torch.softmax(logits, dim=1).cpu().detach().numpy())\n",
    "            val_targets.extend(label.cpu().detach().numpy())\n",
    "\n",
    "        val_auc_score = roc_auc_score(np.array(val_targets), np.array(val_predictions), average='macro', multi_class='ovr')\n",
    "        val_f1_score = f1_score(np.array(val_targets), np.argmax(np.array(val_predictions), axis=1), average='macro')\n",
    "        print(f'Val AUC for lr={learning_rate} and batch_size={batch_size}:\\n{val_auc_score:.2f}')\n",
    "        print(f'Val F1 Score for lr={learning_rate} and batch_size={batch_size}:\\n{val_f1_score:.2f}')\n",
    "        lr_val_auc.append(val_auc_score)\n",
    "        lr_val_f1.append(val_f1_score)\n",
    "\n",
    "    f1_dicts.append(lr_f1_dict)\n",
    "    loss_dicts.append(lr_loss_dict)\n",
    "    val_auc.append(lr_val_auc)\n",
    "    train_auc.append(lr_train_auc)\n",
    "    val_f1.append(lr_val_f1)\n",
    "    train_f1.append(lr_train_f1)\n",
    "\n",
    "with open('hyperparameter_sample_fabric_efficientnetv2.pkl', 'wb') as f:\n",
    "    pickle.dump((f1_dicts, loss_dicts, val_auc, train_auc, val_f1, train_f1), f)"
   ]
  },
  {
   "cell_type": "code",
   "execution_count": 10,
   "id": "9750ede1-4ab1-43f6-8784-3299d5ce8ac7",
   "metadata": {},
   "outputs": [],
   "source": [
    "with open('hyperparameter_sample_fabric_efficientnetv2.pkl', 'rb') as f:\n",
    "    f1_dicts, loss_dicts, val_auc, train_auc, val_f1, train_f1 = pickle.load(f)"
   ]
  },
  {
   "cell_type": "code",
   "execution_count": 14,
   "id": "7f9114e3-fcc9-4604-b0b0-f4896a7306d5",
   "metadata": {},
   "outputs": [
    {
     "data": {
      "image/png": "[encoded data removed]",
      "text/plain": [
       "<Figure size 1500x600 with 3 Axes>"
      ]
     },
     "metadata": {},
     "output_type": "display_data"
    }
   ],
   "source": [
    "batch_sizes = [8]\n",
    "learning_rates = [0.00001, 0.0001, 0.001] \n",
    "\n",
    "fig, axs = plt.subplots(len(batch_sizes), len(learning_rates), figsize=(15, 6))\n",
    "plt.suptitle('Training and Validation Loss')\n",
    "\n",
    "for i, batch_size in enumerate(batch_sizes):\n",
    "    for j, learning_rate in enumerate(learning_rates):\n",
    "        axs[j].plot(loss_dicts[i][j]['train'], label='Training Loss')\n",
    "        axs[j].plot(loss_dicts[i][j]['validate'], label='Validation Loss', color='red')\n",
    "        axs[j].set_title(f'Batch Size: {batch_size}, LR: {learning_rate}')\n",
    "        axs[j].set_xlabel('Epoch')\n",
    "        axs[j].set_ylabel('Loss')\n",
    "        axs[j].set_ylim(0,2)\n",
    "        axs[j].legend(title=f'AUC: {val_auc[i][j]:.4f}, F1 Score: {val_f1[i][j]:.4f}')\n",
    "\n",
    "plt.tight_layout()\n",
    "plt.savefig('hyperparameter_tuning_loss_fabric_efficientnetv2.png')\n",
    "plt.show()"
   ]
  },
  {
   "cell_type": "markdown",
   "id": "7fc9fe7f-b839-4ab9-89c9-1192367240fa",
   "metadata": {},
   "source": [
    "### Hyperparameter Tuned Fabric Classification Model"
   ]
  },
  {
   "cell_type": "code",
   "execution_count": 9,
   "id": "f09295d6-9a21-408d-bef9-bf6053d5e730",
   "metadata": {},
   "outputs": [],
   "source": [
    "bs = 8\n",
    "efficientnetv2_dataset = {'train': FashionDataset(full_train_data,'/vast/amr10211/cv_data/masked_images', 'fabric'), \n",
    "                  'validate': FashionDataset(full_val_data,'/vast/amr10211/cv_data/masked_images', 'fabric'), \n",
    "                  'test': FashionDataset(full_test_data, '/vast/amr10211/cv_data/masked_images', 'fabric')}\n",
    "\n",
    "efficientnetv2_dataloader = {x: DataLoader(efficientnetv2_dataset[x], batch_size=bs,\n",
    "                        shuffle=True, num_workers=0) for x in ['train', 'validate', 'test']}"
   ]
  },
  {
   "cell_type": "code",
   "execution_count": 10,
   "id": "fd990e87-2b59-42d5-8f03-33c181840854",
   "metadata": {},
   "outputs": [
    {
     "name": "stdout",
     "output_type": "stream",
     "text": [
      "Epoch: 0/9\n",
      "----------\n",
      "Phase:train, epoch loss: 0.9751 Acc: 0.6637 F1 0.2257\n",
      "Phase:validate, epoch loss: 0.9085 Acc: 0.6864 F1 0.2888\n",
      "Epoch: 1/9\n",
      "----------\n",
      "Phase:train, epoch loss: 0.8405 Acc: 0.7100 F1 0.3126\n",
      "Phase:validate, epoch loss: 0.8047 Acc: 0.7111 F1 0.3856\n",
      "Epoch: 2/9\n",
      "----------\n",
      "Phase:train, epoch loss: 0.8002 Acc: 0.7254 F1 0.3462\n",
      "Phase:validate, epoch loss: 0.8346 Acc: 0.7085 F1 0.3621\n",
      "Epoch: 3/9\n",
      "----------\n",
      "Phase:train, epoch loss: 0.7697 Acc: 0.7368 F1 0.3624\n",
      "Phase:validate, epoch loss: 0.7686 Acc: 0.7194 F1 0.3692\n",
      "Epoch: 4/9\n",
      "----------\n",
      "Phase:train, epoch loss: 0.7524 Acc: 0.7400 F1 0.3776\n",
      "Phase:validate, epoch loss: 0.7411 Acc: 0.7385 F1 0.4138\n",
      "Epoch: 5/9\n",
      "----------\n",
      "Phase:train, epoch loss: 0.7260 Acc: 0.7493 F1 0.4005\n",
      "Phase:validate, epoch loss: 0.7668 Acc: 0.7179 F1 0.4792\n",
      "Epoch: 6/9\n",
      "----------\n",
      "Phase:train, epoch loss: 0.7044 Acc: 0.7559 F1 0.4229\n",
      "Phase:validate, epoch loss: 0.7429 Acc: 0.7325 F1 0.4801\n",
      "Epoch: 7/9\n",
      "----------\n",
      "Phase:train, epoch loss: 0.6812 Acc: 0.7614 F1 0.4554\n",
      "Phase:validate, epoch loss: 0.7096 Acc: 0.7486 F1 0.4735\n",
      "Epoch: 8/9\n",
      "----------\n",
      "Phase:train, epoch loss: 0.6641 Acc: 0.7671 F1 0.4666\n",
      "Phase:validate, epoch loss: 0.7088 Acc: 0.7404 F1 0.5068\n",
      "Epoch: 9/9\n",
      "----------\n",
      "Phase:train, epoch loss: 0.6369 Acc: 0.7754 F1 0.5041\n",
      "Phase:validate, epoch loss: 0.6934 Acc: 0.7486 F1 0.5158\n",
      "Training complete in 173m 23s\n",
      "Best model val acc: 0.748595 Best model val F1: 0.515772\n"
     ]
    }
   ],
   "source": [
    "efficientnetv2_model_fabric = EfficientNetV2().to(device)\n",
    "criterion = nn.CrossEntropyLoss()\n",
    "optimizer = optim.Adam(efficientnetv2_model_fabric.parameters(), lr=0.0001)\n",
    "\n",
    "efficientnetv2_model_fabric, efficientnetv2_f1_dict, efficientnetv2_loss_dict = train_model(efficientnetv2_model_fabric, \n",
    "                                                                     efficientnetv2_dataloader, \n",
    "                                                                     optimizer, \n",
    "                                                                     loss_fn=criterion, \n",
    "                                                                     num_epochs=10, \n",
    "                                                                     verbose=True)"
   ]
  },
  {
   "cell_type": "code",
   "execution_count": 11,
   "id": "4eba655f-50dc-41c1-a0bc-19979ed81ee3",
   "metadata": {},
   "outputs": [],
   "source": [
    "torch.save(efficientnetv2_model_fabric, 'fabric_classification_model_efficientnetv2.pth')"
   ]
  },
  {
   "cell_type": "code",
   "execution_count": 12,
   "id": "c6129985-5dad-46aa-bb1f-28047bcc4df8",
   "metadata": {},
   "outputs": [],
   "source": [
    "with open('fabric_classification_model_loss_dict_efficientnetv2.pkl', 'wb') as f:\n",
    "    pickle.dump(efficientnetv2_loss_dict, f)"
   ]
  },
  {
   "cell_type": "code",
   "execution_count": 13,
   "id": "2e343088-76c7-4153-8586-a43c857143f3",
   "metadata": {},
   "outputs": [
    {
     "data": {
      "image/png": "[encoded data removed]",
      "text/plain": [
       "<Figure size 640x480 with 1 Axes>"
      ]
     },
     "metadata": {},
     "output_type": "display_data"
    }
   ],
   "source": [
    "plt.plot(np.arange(0,10), efficientnetv2_loss_dict['train'])\n",
    "plt.plot(np.arange(0,10), efficientnetv2_loss_dict['validate'])\n",
    "plt.ylim(0,2);"
   ]
  },
  {
   "cell_type": "code",
   "execution_count": 14,
   "id": "256f3e61-c979-428d-9f69-6852f256116c",
   "metadata": {},
   "outputs": [
    {
     "name": "stdout",
     "output_type": "stream",
     "text": [
      "77.11611938476562\n"
     ]
    }
   ],
   "source": [
    "correct = 0\n",
    "total = 0\n",
    "efficientnetv2_model_fabric.eval()\n",
    "for data in efficientnetv2_dataloader['test']:\n",
    "    optimizer.zero_grad()            \n",
    "    image = data['x'].to(device)\n",
    "    label = data['y'].to(device)\n",
    "    output = efficientnetv2_model_fabric(image)\n",
    "    pred = torch.argmax(output, axis=1)\n",
    "    total += label.size(0)\n",
    "    correct += (pred == label).sum()\n",
    "\n",
    "test_acc = float(100 * correct / total)\n",
    "print(test_acc)"
   ]
  },
  {
   "cell_type": "code",
   "execution_count": 15,
   "id": "d1c77565-aa42-4db9-9fe5-b193bd3bcbee",
   "metadata": {},
   "outputs": [
    {
     "name": "stdout",
     "output_type": "stream",
     "text": [
      "Macro F1 score: 0.5159819788356341\n",
      "One-vs-all AUC: 0.7042263102704326\n"
     ]
    }
   ],
   "source": [
    "efficientnetv2_model_fabric.eval()\n",
    "y_true = []\n",
    "y_pred = []\n",
    "\n",
    "for data in efficientnetv2_dataloader['test']:\n",
    "    optimizer.zero_grad()            \n",
    "    image = data['x'].to(device)\n",
    "    label = data['y'].to(device)\n",
    "    output = efficientnetv2_model_fabric(image)\n",
    "    pred = torch.argmax(output, axis=1)\n",
    "    y_true.extend(label.cpu().numpy())\n",
    "    y_pred.extend(pred.cpu().numpy())\n",
    "\n",
    "y_true = np.array(y_true)\n",
    "y_pred = np.array(y_pred)\n",
    "\n",
    "# Macro F1 score\n",
    "macro_f1 = f1_score(y_true, y_pred, average='macro')\n",
    "\n",
    "# One-vs-all AUC\n",
    "# Binarize the labels\n",
    "y_true_bin = label_binarize(y_true, classes=np.unique(y_true))\n",
    "n_classes = y_true_bin.shape[1]\n",
    "\n",
    "# Calculate one-vs-all AUC for each class\n",
    "auc_scores = []\n",
    "for i in range(n_classes):\n",
    "    auc = roc_auc_score(y_true_bin[:, i], y_pred == i)\n",
    "    auc_scores.append(auc)\n",
    "\n",
    "# Average AUC scores across all classes\n",
    "one_vs_all_auc = np.mean(auc_scores)\n",
    "\n",
    "print(\"Macro F1 score:\", macro_f1)\n",
    "print(\"One-vs-all AUC:\", one_vs_all_auc)\n"
   ]
  },
  {
   "cell_type": "markdown",
   "id": "739b3136-165a-4ae1-a183-9a4fc6a2a567",
   "metadata": {},
   "source": [
    "### 25 Epochs Tuned Fabric Classification Model"
   ]
  },
  {
   "cell_type": "code",
   "execution_count": 9,
   "id": "ffad77fc-508d-4cc2-b56a-3fe012701e52",
   "metadata": {},
   "outputs": [],
   "source": [
    "bs = 8\n",
    "\n",
    "efficientnetv2_dataset = {'train': FashionDataset(full_train_data,'/vast/amr10211/cv_data/masked_images', 'fabric'), \n",
    "                  'validate': FashionDataset(full_val_data,'/vast/amr10211/cv_data/masked_images', 'fabric'), \n",
    "                  'test': FashionDataset(full_test_data, '/vast/amr10211/cv_data/masked_images', 'fabric')}\n",
    "\n",
    "efficientnetv2_dataloader = {x: DataLoader(efficientnetv2_dataset[x], batch_size=bs,\n",
    "                        shuffle=True, num_workers=0) for x in ['train', 'validate', 'test']}"
   ]
  },
  {
   "cell_type": "code",
   "execution_count": 10,
   "id": "62c9a4b0-5d5a-4131-83d1-edca9493df29",
   "metadata": {},
   "outputs": [
    {
     "name": "stdout",
     "output_type": "stream",
     "text": [
      "Epoch: 0/14\n",
      "----------\n",
      "Phase:train, epoch loss: 0.6190 Acc: 0.7844 F1 0.5316\n",
      "Phase:validate, epoch loss: 0.7135 Acc: 0.7329 F1 0.5086\n",
      "Epoch: 1/14\n",
      "----------\n",
      "Phase:train, epoch loss: 0.5907 Acc: 0.7915 F1 0.5494\n",
      "Phase:validate, epoch loss: 0.6787 Acc: 0.7467 F1 0.5365\n",
      "Epoch: 2/14\n",
      "----------\n",
      "Phase:train, epoch loss: 0.5702 Acc: 0.8003 F1 0.5755\n",
      "Phase:validate, epoch loss: 0.6817 Acc: 0.7404 F1 0.5166\n",
      "Epoch: 3/14\n",
      "----------\n",
      "Phase:train, epoch loss: 0.5408 Acc: 0.8068 F1 0.5969\n",
      "Phase:validate, epoch loss: 0.6878 Acc: 0.7482 F1 0.5430\n",
      "Epoch: 4/14\n",
      "----------\n",
      "Phase:train, epoch loss: 0.5070 Acc: 0.8178 F1 0.6239\n",
      "Phase:validate, epoch loss: 0.6904 Acc: 0.7568 F1 0.5618\n",
      "Epoch: 5/14\n",
      "----------\n",
      "Phase:train, epoch loss: 0.4748 Acc: 0.8292 F1 0.6510\n",
      "Phase:validate, epoch loss: 0.6912 Acc: 0.7486 F1 0.5645\n",
      "Epoch: 6/14\n",
      "----------\n",
      "Phase:train, epoch loss: 0.4423 Acc: 0.8434 F1 0.6853\n",
      "Phase:validate, epoch loss: 0.7203 Acc: 0.7385 F1 0.5876\n",
      "Epoch: 7/14\n",
      "----------\n",
      "Phase:train, epoch loss: 0.4104 Acc: 0.8525 F1 0.7121\n",
      "Phase:validate, epoch loss: 0.7438 Acc: 0.7314 F1 0.5695\n",
      "Epoch: 8/14\n",
      "----------\n",
      "Phase:train, epoch loss: 0.3663 Acc: 0.8657 F1 0.7416\n",
      "Phase:validate, epoch loss: 0.8380 Acc: 0.7463 F1 0.5329\n",
      "Epoch: 9/14\n",
      "----------\n",
      "Phase:train, epoch loss: 0.3320 Acc: 0.8797 F1 0.7758\n",
      "Phase:validate, epoch loss: 0.8397 Acc: 0.7550 F1 0.5439\n",
      "Epoch: 10/14\n",
      "----------\n",
      "Phase:train, epoch loss: 0.2961 Acc: 0.8923 F1 0.7971\n",
      "Phase:validate, epoch loss: 0.8591 Acc: 0.7430 F1 0.5563\n",
      "Epoch: 11/14\n",
      "----------\n",
      "Phase:train, epoch loss: 0.2718 Acc: 0.9017 F1 0.8133\n",
      "Phase:validate, epoch loss: 0.8516 Acc: 0.7306 F1 0.5785\n",
      "Epoch: 12/14\n",
      "----------\n",
      "Phase:train, epoch loss: 0.2443 Acc: 0.9131 F1 0.8360\n",
      "Phase:validate, epoch loss: 0.9388 Acc: 0.7299 F1 0.5689\n",
      "Epoch: 13/14\n",
      "----------\n",
      "Phase:train, epoch loss: 0.2230 Acc: 0.9198 F1 0.8471\n",
      "Phase:validate, epoch loss: 1.0219 Acc: 0.7317 F1 0.5325\n",
      "Epoch: 14/14\n",
      "----------\n",
      "Phase:train, epoch loss: 0.2044 Acc: 0.9269 F1 0.8639\n",
      "Phase:validate, epoch loss: 1.0549 Acc: 0.7370 F1 0.5434\n",
      "Training complete in 264m 8s\n",
      "Best model val acc: 0.738479 Best model val F1: 0.587613\n"
     ]
    }
   ],
   "source": [
    "efficientnetv2_model_fabric = torch.load('fabric_classification_model_efficientnetv2.pth')\n",
    "criterion = nn.CrossEntropyLoss()\n",
    "optimizer = optim.Adam(efficientnetv2_model_fabric.parameters(), lr=0.0001)\n",
    "\n",
    "efficientnetv2_model_fabric, efficientnetv2_f1_dict, efficientnetv2_loss_dict = train_model(efficientnetv2_model_fabric, \n",
    "                                                                     efficientnetv2_dataloader, \n",
    "                                                                     optimizer, \n",
    "                                                                     loss_fn=criterion, \n",
    "                                                                     num_epochs=15, \n",
    "                                                                     verbose=True)"
   ]
  },
  {
   "cell_type": "code",
   "execution_count": 11,
   "id": "3cc73893-ece9-43d2-9217-d41f8547b1c7",
   "metadata": {},
   "outputs": [],
   "source": [
    "torch.save(efficientnetv2_model_fabric, 'fabric_classification_model_25_epochs_efficientnetv2.pth')"
   ]
  },
  {
   "cell_type": "code",
   "execution_count": 12,
   "id": "c9f81aed-80d4-4e7e-a5ee-90e925bf26df",
   "metadata": {},
   "outputs": [],
   "source": [
    "with open('fabric_classification_model_loss_dict_25_epochs_efficientnetv2.pkl', 'wb') as f:\n",
    "    pickle.dump(efficientnetv2_loss_dict, f)"
   ]
  },
  {
   "cell_type": "code",
   "execution_count": 14,
   "id": "cec8f2dd-f9c5-4ab3-bbee-653218f0b2e1",
   "metadata": {},
   "outputs": [
    {
     "data": {
      "image/png": "[encoded data removed]",
      "text/plain": [
       "<Figure size 640x480 with 1 Axes>"
      ]
     },
     "metadata": {},
     "output_type": "display_data"
    }
   ],
   "source": [
    "plt.plot(np.arange(0,15), efficientnetv2_loss_dict['train'])\n",
    "plt.plot(np.arange(0,15), efficientnetv2_loss_dict['validate'])\n",
    "plt.ylim(0,2);"
   ]
  },
  {
   "cell_type": "code",
   "execution_count": 15,
   "id": "731b61e6-a98c-48bd-b4ac-98f9ee0faaed",
   "metadata": {},
   "outputs": [
    {
     "name": "stdout",
     "output_type": "stream",
     "text": [
      "76.98851776123047\n"
     ]
    }
   ],
   "source": [
    "correct = 0\n",
    "total = 0\n",
    "efficientnetv2_model_fabric.eval()\n",
    "for data in efficientnetv2_dataloader['test']:\n",
    "    optimizer.zero_grad()            \n",
    "    image = data['x'].to(device)\n",
    "    label = data['y'].to(device)\n",
    "    output = efficientnetv2_model_fabric(image)\n",
    "    pred = torch.argmax(output, axis=1)\n",
    "    total += label.size(0)\n",
    "    correct += (pred == label).sum()\n",
    "\n",
    "test_acc = float(100 * correct / total)\n",
    "print(test_acc)"
   ]
  },
  {
   "cell_type": "code",
   "execution_count": 16,
   "id": "f541134d-0575-400a-a4b7-6b02468f1a40",
   "metadata": {},
   "outputs": [
    {
     "name": "stdout",
     "output_type": "stream",
     "text": [
      "Macro F1 score: 0.5685209780002656\n",
      "One-vs-all AUC: 0.7429376047120329\n"
     ]
    }
   ],
   "source": [
    "efficientnetv2_model_fabric.eval()\n",
    "y_true = []\n",
    "y_pred = []\n",
    "\n",
    "for data in efficientnetv2_dataloader['test']:\n",
    "    optimizer.zero_grad()            \n",
    "    image = data['x'].to(device)\n",
    "    label = data['y'].to(device)\n",
    "    output = efficientnetv2_model_fabric(image)\n",
    "    pred = torch.argmax(output, axis=1)\n",
    "    y_true.extend(label.cpu().numpy())\n",
    "    y_pred.extend(pred.cpu().numpy())\n",
    "\n",
    "y_true = np.array(y_true)\n",
    "y_pred = np.array(y_pred)\n",
    "\n",
    "# Macro F1 score\n",
    "macro_f1 = f1_score(y_true, y_pred, average='macro')\n",
    "\n",
    "# One-vs-all AUC\n",
    "# Binarize the labels\n",
    "y_true_bin = label_binarize(y_true, classes=np.unique(y_true))\n",
    "n_classes = y_true_bin.shape[1]\n",
    "\n",
    "# Calculate one-vs-all AUC for each class\n",
    "auc_scores = []\n",
    "for i in range(n_classes):\n",
    "    auc = roc_auc_score(y_true_bin[:, i], y_pred == i)\n",
    "    auc_scores.append(auc)\n",
    "\n",
    "# Average AUC scores across all classes\n",
    "one_vs_all_auc = np.mean(auc_scores)\n",
    "\n",
    "print(\"Macro F1 score:\", macro_f1)\n",
    "print(\"One-vs-all AUC:\", one_vs_all_auc)"
   ]
  },
  {
   "cell_type": "code",
   "execution_count": null,
   "id": "cf7528e3-17e3-4367-b2f0-11f405aed39e",
   "metadata": {},
   "outputs": [],
   "source": []
  }
 ],
 "metadata": {
  "kernelspec": {
   "display_name": "DLM_env",
   "language": "python",
   "name": "dlm_env"
  },
  "language_info": {
   "codemirror_mode": {
    "name": "ipython",
    "version": 3
   },
   "file_extension": ".py",
   "mimetype": "text/x-python",
   "name": "python",
   "nbconvert_exporter": "python",
   "pygments_lexer": "ipython3",
   "version": "3.12.1"
  }
 },
 "nbformat": 4,
 "nbformat_minor": 5
}
