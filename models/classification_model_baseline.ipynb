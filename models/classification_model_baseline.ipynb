{
 "cells": [
  {
   "cell_type": "code",
   "execution_count": 75,
   "id": "575b54c1-df35-49b1-b503-971a8e234674",
   "metadata": {},
   "outputs": [],
   "source": [
    "import tqdm as tqdm\n",
    "import torch\n",
    "import torch.nn as nn\n",
    "from torchvision import models\n",
    "import torchvision.transforms as transforms\n",
    "from torch.nn.functional import relu\n",
    "import pandas as pd\n",
    "import os\n",
    "from sklearn.model_selection import train_test_split\n",
    "from skimage import io\n",
    "import torch\n",
    "from skimage import color\n",
    "from sklearn.preprocessing import LabelEncoder\n",
    "import torch.nn as nn\n",
    "import torch.nn.functional as F\n",
    "from torch.utils.data import Dataset, DataLoader\n",
    "import time\n",
    "import numpy as np\n",
    "import matplotlib.pyplot as plt\n",
    "import torch.optim as optim\n",
    "import torch.nn.init as init\n",
    "from PIL import Image, ImageOps\n",
    "import pickle"
   ]
  },
  {
   "cell_type": "code",
   "execution_count": 76,
   "id": "1ee99e93-c50d-4d0a-91cf-b1f768c734be",
   "metadata": {},
   "outputs": [
    {
     "name": "stdout",
     "output_type": "stream",
     "text": [
      "y\n"
     ]
    }
   ],
   "source": [
    "if torch.cuda.is_available():\n",
    "    device = torch.device('cuda')\n",
    "    print('y')\n",
    "else:\n",
    "    device = torch.device('cpu')\n",
    "    print('n')\n"
   ]
  },
  {
   "cell_type": "code",
   "execution_count": 6,
   "id": "564a6eac-65f5-4a80-aa8f-57a6bff6a5d3",
   "metadata": {},
   "outputs": [
    {
     "name": "stderr",
     "output_type": "stream",
     "text": [
      "Masking PNG files: 100%|██████████| 12701/12701 [25:45<00:00,  8.22it/s]\n"
     ]
    }
   ],
   "source": [
    "# images_path = '/vast/amr10211/cv_data/images' \n",
    "# train_path = '../data/full_data.csv'\n",
    "# input_directory = '/vast/amr10211/cv_data/segm_preprocessed'\n",
    "# output_directory = '/vast/amr10211/cv_data/masked_images'\n",
    "\n",
    "# df = pd.read_csv(train_path)\n",
    "\n",
    "# png_files = [filename for filename in os.listdir(input_directory) if filename.endswith('.png')]\n",
    "\n",
    "# for file in tqdm.tqdm(png_files, desc=\"Masking PNG files\"):\n",
    "#     segm_name = file\n",
    "    \n",
    "#     img_name = df[df['segm_name'] == segm_name]['img_name'].iloc[0]\n",
    "    \n",
    "#     image_filepath = os.path.join(images_path, img_name)\n",
    "#     segm_filepath = os.path.join(input_directory, segm_name)\n",
    "    \n",
    "#     image = Image.open(image_filepath)\n",
    "#     segmentation = Image.open(segm_filepath)\n",
    "    \n",
    "#     labels = [1,2,3,4,5,6]\n",
    "    \n",
    "#     segmentation = np.array(segmentation)\n",
    "#     for l in labels:\n",
    "#         mask = np.where(segmentation == l, l, 0)\n",
    "    \n",
    "#         if np.sum(mask) >= 5:\n",
    "#             mask = np.repeat(mask[:, :, np.newaxis], 3, axis=2)\n",
    "#             masked_image = np.multiply(image, mask)\n",
    "            \n",
    "#             filename, file_extension = os.path.splitext(file)\n",
    "#             output_filepath = filename + \"_\" + str(l) + file_extension\n",
    "#             output_filepath = os.path.join(output_directory, output_filepath)\n",
    "            \n",
    "#             masked_image = Image.fromarray(masked_image.astype(np.uint8))\n",
    "#             masked_image.save(output_filepath)\n"
   ]
  },
  {
   "cell_type": "code",
   "execution_count": 77,
   "id": "452607c6-972b-4a7b-8995-ce438d780231",
   "metadata": {},
   "outputs": [],
   "source": [
    "img_dir = '/vast/amr10211/cv_data/masked_images'\n",
    "masked_image_list = [f for f in os.listdir(img_dir) if os.path.isfile(os.path.join(img_dir, f))]\n",
    "masked_data_df = pd.DataFrame({'masked_img_name':masked_image_list})\n",
    "masked_data_df['segm_name'] = masked_data_df['masked_img_name'].str[:-6] + '.png'\n",
    "\n",
    "train_data = pd.read_csv( '../data/train.csv')\n",
    "val_data =  pd.read_csv( '../data/val.csv')\n",
    "test_data =  pd.read_csv( '../data/test.csv')\n",
    "\n",
    "train_data = pd.merge(masked_data_df, train_data, on ='segm_name', how='left')\n",
    "val_data = pd.merge(masked_data_df, val_data, on ='segm_name', how='left')\n",
    "test_data = pd.merge(masked_data_df, test_data, on ='segm_name', how='left')"
   ]
  },
  {
   "cell_type": "code",
   "execution_count": 78,
   "id": "b7a8eac9-f4d0-4a7b-9ece-a8d58d761c16",
   "metadata": {},
   "outputs": [],
   "source": [
    "#Encode Labels based on number before .png\n",
    "# 1 (upper)\n",
    "# 2 (outer)\n",
    "# 3 (lower) \n",
    "# 4 (lower)\n",
    "# 5 (upper)\n",
    "# 6 (upper)\n",
    "\n",
    "train_data['clothing_type'] = train_data['masked_img_name'].str[-5].astype(int)\n",
    "val_data['clothing_type'] = val_data['masked_img_name'].str[-5].astype(int)\n",
    "test_data['clothing_type'] = test_data['masked_img_name'].str[-5].astype(int)\n",
    "\n",
    "\n",
    "def map_fabric_mattern(data):\n",
    "    if int(data['clothing_type']) in (1,5,6):\n",
    "        data['fabric'] = data['upper_fabric']\n",
    "        data['pattern'] = data['upper_pattern']\n",
    "    elif int(data['clothing_type']) in (3,4):\n",
    "        data['fabric'] = data['lower_fabric']\n",
    "        data['pattern'] = data['lower_pattern']\n",
    "    elif int(data['clothing_type'])== 2:\n",
    "        data['fabric'] = data['outer_fabric']\n",
    "        data['pattern'] = data['outer_pattern']\n",
    "    \n",
    "    return data\n",
    "\n",
    "train_data = train_data.apply(map_fabric_mattern, axis=1)\n",
    "val_data = val_data.apply(map_fabric_mattern, axis=1)\n",
    "test_data = test_data.apply(map_fabric_mattern, axis=1)\n",
    "\n",
    "train_data = train_data[['masked_img_name', 'clothing_type', 'fabric', 'pattern', 'segm_name']].dropna()\n",
    "train_data = train_data.reset_index(drop=True)\n",
    "val_data = val_data[['masked_img_name', 'clothing_type', 'fabric', 'pattern', 'segm_name']].dropna()\n",
    "val_data = val_data.reset_index(drop=True)\n",
    "test_data = test_data[['masked_img_name', 'clothing_type', 'fabric', 'pattern', 'segm_name']].dropna()\n",
    "test_data = test_data.reset_index(drop=True)\n"
   ]
  },
  {
   "cell_type": "code",
   "execution_count": 79,
   "id": "a744d39b-949a-45bb-b527-6d2085592dfb",
   "metadata": {},
   "outputs": [],
   "source": [
    "class FashionDataset(Dataset):\n",
    "    def __init__(self, data_frame, img_dir, label, transform=None):\n",
    "        \"\"\"\n",
    "        Args:\n",
    "            csv_file (string): Path to the csv file filename information.\n",
    "            root_dir (string): Directory with all the images.\n",
    "            transform (callable, optional): Optional transform to be applied\n",
    "                on a sample.\n",
    "        \"\"\"\n",
    "        self.data_frame = data_frame\n",
    "        self.img_dir = img_dir\n",
    "        self.clothing_type = data_frame['clothing_type']\n",
    "        self.label = data_frame[label]\n",
    "\n",
    "        self.transform = transform            \n",
    "\n",
    "    def __len__(self):\n",
    "        return len(self.data_frame)\n",
    "\n",
    "    def __getitem__(self, idx):\n",
    "        img_name = os.path.join(self.img_dir,\n",
    "                                self.data_frame.iloc[idx, 0])\n",
    "        image = Image.open(img_name)\n",
    "        label = self.label[idx]\n",
    "        clothing_type = self.clothing_type[idx] \n",
    "        \n",
    "        #Resize image and label to 572x572\n",
    "        image = image.resize((572, 572))\n",
    "\n",
    "        #Normalize the image\n",
    "        image = np.asarray(image)\n",
    "        min_image = np.min(image)\n",
    "        max_image = np.max(image)\n",
    "        image = (image - min_image)/(max_image - min_image + 1e-4)\n",
    "\n",
    "        #Convert to tensors\n",
    "        image = torch.tensor(np.array(image)).float().permute(2, 0, 1)\n",
    "        label = torch.tensor(label).long()\n",
    "        clothing_type = torch.tensor(clothing_type).long()\n",
    "        sample = {'x': image, 'y': label, 'c': clothing_type}\n",
    "\n",
    "        if self.transform:\n",
    "            sample = self.transform(sample)\n",
    "\n",
    "        return sample"
   ]
  },
  {
   "cell_type": "code",
   "execution_count": 80,
   "id": "53d16d9c-220b-4f6c-9453-00f98606ae80",
   "metadata": {},
   "outputs": [],
   "source": [
    "class ResNet18(nn.Module):\n",
    "    def __init__(self):\n",
    "        super(ResNet18, self).__init__()\n",
    "        self.resnet18 = models.resnet18(weights=None) \n",
    "        num_ftrs = self.resnet18.fc.in_features\n",
    "        self.resnet18.fc = nn.Linear(num_ftrs, 8)\n",
    "\n",
    "    def forward(self, x):\n",
    "        x = self.resnet18(x)\n",
    "        return x"
   ]
  },
  {
   "cell_type": "code",
   "execution_count": 81,
   "id": "301f5e41-d5c2-4802-b665-15cf081314c3",
   "metadata": {},
   "outputs": [],
   "source": [
    "def train_model(model, dataloader, optimizer,  loss_fn, num_epochs = 10, verbose = False):\n",
    "    acc_dict = {'train':[],'validate':[]}\n",
    "    loss_dict = {'train':[],'validate':[]}\n",
    "    best_acc = 0\n",
    "    phases = ['train','validate']\n",
    "    since = time.time()\n",
    "    for i in range(num_epochs):\n",
    "        print('Epoch: {}/{}'.format(i, num_epochs-1))\n",
    "        print('-'*10)\n",
    "        for p in phases:\n",
    "            running_correct = 0\n",
    "            running_loss = 0\n",
    "            running_total = 0\n",
    "            if p == 'train':\n",
    "                model.train()\n",
    "            else:\n",
    "                model.eval()\n",
    "            for data in dataloader[p]:\n",
    "                optimizer.zero_grad()            \n",
    "                image = data['x'].to(device)\n",
    "                label = data['y'].to(device)\n",
    "                output = model(image)\n",
    "                loss = loss_fn(output, label)\n",
    "                _, preds = torch.max(output, dim = 1)\n",
    "                num_imgs = image.size()[0]\n",
    "                running_correct += torch.sum(preds ==label).item()\n",
    "                running_loss += loss.item()*num_imgs\n",
    "                running_total += num_imgs\n",
    "                if p== 'train':\n",
    "                    loss.backward()\n",
    "                    optimizer.step()\n",
    "            epoch_acc = float(running_correct/running_total)\n",
    "            epoch_loss = float(running_loss/running_total)\n",
    "            if verbose or (i%10 == 0):\n",
    "                print('Phase:{}, epoch loss: {:.4f} Acc: {:.4f}'.format(p, epoch_loss, epoch_acc))\n",
    "\n",
    "            acc_dict[p].append(epoch_acc)\n",
    "            loss_dict[p].append(epoch_loss)\n",
    "            if p == 'validate':\n",
    "                if epoch_acc > best_acc:\n",
    "                    best_acc = epoch_acc\n",
    "                    best_model_wts = model.state_dict()\n",
    "    time_elapsed = time.time() - since\n",
    "    print('Training complete in {:.0f}m {:.0f}s'.format(time_elapsed // 60, time_elapsed % 60))\n",
    "    print('Best val acc: {:4f}'.format(best_acc))\n",
    "    \n",
    "    model.load_state_dict(best_model_wts)\n",
    "    \n",
    "    return model, acc_dict, loss_dict\n"
   ]
  },
  {
   "cell_type": "code",
   "execution_count": 82,
   "id": "fd990e87-2b59-42d5-8f03-33c181840854",
   "metadata": {},
   "outputs": [
    {
     "name": "stdout",
     "output_type": "stream",
     "text": [
      "Epoch: 0/9\n",
      "----------\n",
      "Phase:train, epoch loss: 1.0014 Acc: 0.6631\n",
      "Phase:validate, epoch loss: 7.1107 Acc: 0.0542\n",
      "Epoch: 1/9\n",
      "----------\n",
      "Phase:train, epoch loss: 0.8625 Acc: 0.7049\n",
      "Phase:validate, epoch loss: 3.0741 Acc: 0.1051\n",
      "Epoch: 2/9\n",
      "----------\n",
      "Phase:train, epoch loss: 0.8176 Acc: 0.7207\n",
      "Phase:validate, epoch loss: 1.6899 Acc: 0.4741\n",
      "Epoch: 3/9\n",
      "----------\n",
      "Phase:train, epoch loss: 0.7982 Acc: 0.7279\n",
      "Phase:validate, epoch loss: 0.8283 Acc: 0.7183\n",
      "Epoch: 4/9\n",
      "----------\n",
      "Phase:train, epoch loss: 0.7658 Acc: 0.7387\n",
      "Phase:validate, epoch loss: 0.8209 Acc: 0.7215\n",
      "Epoch: 5/9\n",
      "----------\n",
      "Phase:train, epoch loss: 0.7440 Acc: 0.7435\n",
      "Phase:validate, epoch loss: 0.8032 Acc: 0.7187\n",
      "Epoch: 6/9\n",
      "----------\n",
      "Phase:train, epoch loss: 0.7235 Acc: 0.7490\n",
      "Phase:validate, epoch loss: 0.7677 Acc: 0.7405\n",
      "Epoch: 7/9\n",
      "----------\n",
      "Phase:train, epoch loss: 0.7014 Acc: 0.7577\n",
      "Phase:validate, epoch loss: 0.7424 Acc: 0.7478\n",
      "Epoch: 8/9\n",
      "----------\n",
      "Phase:train, epoch loss: 0.6883 Acc: 0.7614\n",
      "Phase:validate, epoch loss: 0.7372 Acc: 0.7445\n",
      "Epoch: 9/9\n",
      "----------\n",
      "Phase:train, epoch loss: 0.6666 Acc: 0.7667\n",
      "Phase:validate, epoch loss: 0.7194 Acc: 0.7538\n",
      "Training complete in 100m 14s\n",
      "Best val acc: 0.753840\n"
     ]
    }
   ],
   "source": [
    "resnet_model_fabric = ResNet18().to(device)\n",
    "criterion = nn.CrossEntropyLoss()\n",
    "optimizer = optim.Adam(resnet_model_fabric.parameters(), lr=0.001)\n",
    "\n",
    "bs = 16\n",
    "\n",
    "resnet_dataset = {'train': FashionDataset(train_data,'/vast/amr10211/cv_data/masked_images', 'fabric'), 'validate': FashionDataset(val_data,'/vast/amr10211/cv_data/masked_images', 'fabric'), 'test': FashionDataset(test_data, '/vast/amr10211/cv_data/masked_images', 'fabric')}\n",
    "resnet_dataloader = {x: DataLoader(resnet_dataset[x], batch_size=bs,\n",
    "                        shuffle=True, num_workers=0) for x in ['train', 'validate']}\n",
    "\n",
    "resnet_model_fabric, resnet_acc_dict, resnet_loss_dict = train_model(resnet_model_fabric, resnet_dataloader, optimizer, loss_fn=criterion, num_epochs=10, verbose=True)"
   ]
  },
  {
   "cell_type": "code",
   "execution_count": 83,
   "id": "4eba655f-50dc-41c1-a0bc-19979ed81ee3",
   "metadata": {},
   "outputs": [],
   "source": [
    "torch.save(resnet_model_fabric, 'fabric_classification_model_baseline.pth')"
   ]
  },
  {
   "cell_type": "code",
   "execution_count": 84,
   "id": "c6129985-5dad-46aa-bb1f-28047bcc4df8",
   "metadata": {},
   "outputs": [],
   "source": [
    "with open('fabric_classification_model_loss_dict_baseline.pkl', 'wb') as f:\n",
    "    pickle.dump(resnet_loss_dict, f)"
   ]
  },
  {
   "cell_type": "code",
   "execution_count": 88,
   "id": "c1b2e00d-7018-406e-bcdf-43e301f0315c",
   "metadata": {},
   "outputs": [],
   "source": [
    "resnet_dataset = {'train': FashionDataset(train_data,'/vast/amr10211/cv_data/masked_images', 'fabric'), 'validate': FashionDataset(val_data,'/vast/amr10211/cv_data/masked_images', 'fabric'), 'test': FashionDataset(test_data, '/vast/amr10211/cv_data/masked_images', 'fabric')}\n",
    "resnet_dataloader = {x: DataLoader(resnet_dataset[x], batch_size=bs,\n",
    "                        shuffle=True, num_workers=0) for x in ['train', 'validate', 'test']}"
   ]
  },
  {
   "cell_type": "code",
   "execution_count": 97,
   "id": "2e343088-76c7-4153-8586-a43c857143f3",
   "metadata": {},
   "outputs": [
    {
     "data": {
      "text/plain": [
       "(0.0, 2.0)"
      ]
     },
     "execution_count": 97,
     "metadata": {},
     "output_type": "execute_result"
    },
    {
     "data": {
      "image/png": "[encoded data removed]",
      "text/plain": [
       "<Figure size 640x480 with 1 Axes>"
      ]
     },
     "metadata": {},
     "output_type": "display_data"
    }
   ],
   "source": [
    "plt.plot(np.arange(0,10), resnet_loss_dict['train'])\n",
    "plt.plot(np.arange(0,10), resnet_loss_dict['validate'])\n",
    "plt.ylim(0,2)"
   ]
  },
  {
   "cell_type": "code",
   "execution_count": 90,
   "id": "256f3e61-c979-428d-9f69-6852f256116c",
   "metadata": {},
   "outputs": [],
   "source": [
    "correct = 0\n",
    "total = 0\n",
    "resnet_model_fabric.eval()\n",
    "for data in resnet_dataloader['test']:\n",
    "    optimizer.zero_grad()            \n",
    "    image = data['x'].to(device)\n",
    "    label = data['y'].to(device)\n",
    "    output = resnet_model_fabric(image)\n",
    "    pred = torch.argmax(output, axis=1)\n",
    "    total += label.size(0)\n",
    "    correct += (pred == label).sum()\n"
   ]
  },
  {
   "cell_type": "code",
   "execution_count": 91,
   "id": "7f065f1d-67c9-4527-bd01-fbe96efaace0",
   "metadata": {},
   "outputs": [
    {
     "name": "stdout",
     "output_type": "stream",
     "text": [
      "76.34408569335938\n"
     ]
    }
   ],
   "source": [
    "test_acc = float(100 * correct / total)\n",
    "print(test_acc)"
   ]
  },
  {
   "cell_type": "code",
   "execution_count": 92,
   "id": "d1c77565-aa42-4db9-9fe5-b193bd3bcbee",
   "metadata": {},
   "outputs": [
    {
     "name": "stdout",
     "output_type": "stream",
     "text": [
      "Macro F1 score: 0.34878566260634114\n",
      "One-vs-all AUC: 0.6310581274614866\n"
     ]
    }
   ],
   "source": [
    "import numpy as np\n",
    "from sklearn.metrics import f1_score, roc_auc_score\n",
    "from sklearn.preprocessing import label_binarize\n",
    "\n",
    "resnet_model_fabric.eval()\n",
    "y_true = []\n",
    "y_pred = []\n",
    "\n",
    "for data in resnet_dataloader['test']:\n",
    "    optimizer.zero_grad()            \n",
    "    image = data['x'].to(device)\n",
    "    label = data['y'].to(device)\n",
    "    output = resnet_model_fabric(image)\n",
    "    pred = torch.argmax(output, axis=1)\n",
    "    y_true.extend(label.cpu().numpy())\n",
    "    y_pred.extend(pred.cpu().numpy())\n",
    "\n",
    "y_true = np.array(y_true)\n",
    "y_pred = np.array(y_pred)\n",
    "\n",
    "# Macro F1 score\n",
    "macro_f1 = f1_score(y_true, y_pred, average='macro')\n",
    "\n",
    "# One-vs-all AUC\n",
    "# Binarize the labels\n",
    "y_true_bin = label_binarize(y_true, classes=np.unique(y_true))\n",
    "n_classes = y_true_bin.shape[1]\n",
    "\n",
    "# Calculate one-vs-all AUC for each class\n",
    "auc_scores = []\n",
    "for i in range(n_classes):\n",
    "    auc = roc_auc_score(y_true_bin[:, i], y_pred == i)\n",
    "    auc_scores.append(auc)\n",
    "\n",
    "# Average AUC scores across all classes\n",
    "one_vs_all_auc = np.mean(auc_scores)\n",
    "\n",
    "print(\"Macro F1 score:\", macro_f1)\n",
    "print(\"One-vs-all AUC:\", one_vs_all_auc)\n"
   ]
  },
  {
   "cell_type": "code",
   "execution_count": null,
   "id": "01c8a946-f3ca-46f1-878e-1ad447fd9c56",
   "metadata": {},
   "outputs": [],
   "source": []
  }
 ],
 "metadata": {
  "kernelspec": {
   "display_name": "my_env",
   "language": "python",
   "name": "my_env"
  },
  "language_info": {
   "codemirror_mode": {
    "name": "ipython",
    "version": 3
   },
   "file_extension": ".py",
   "mimetype": "text/x-python",
   "name": "python",
   "nbconvert_exporter": "python",
   "pygments_lexer": "ipython3",
   "version": "3.12.1"
  }
 },
 "nbformat": 4,
 "nbformat_minor": 5
}
